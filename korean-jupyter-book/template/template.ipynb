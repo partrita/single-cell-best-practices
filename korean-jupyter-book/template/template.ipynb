{
 "cells": [
  {
   "cell_type": "markdown",
   "id": "26fe08ad",
   "metadata": {},
   "source": [
    "QUERY LENGTH LIMIT EXCEEDED. MAX ALLOWED QUERY : 500 CHARS"
   ]
  },
  {
   "cell_type": "markdown",
   "id": "2da33856",
   "metadata": {},
   "source": [
    "MYMEMORY WARNING: YOU USED ALL AVAILABLE FREE TRANSLATIONS FOR TODAY. NEXT AVAILABLE IN  07 HOURS 26 MINUTES 04 SECONDS VISIT HTTPS://MYMEMORY.TRANSLATED.NET/DOC/USAGELIMITS.PHP TO TRANSLATE MORE"
   ]
  },
  {
   "cell_type": "markdown",
   "id": "09d547f9",
   "metadata": {},
   "source": [
    "MYMEMORY WARNING: YOU USED ALL AVAILABLE FREE TRANSLATIONS FOR TODAY. NEXT AVAILABLE IN  07 HOURS 26 MINUTES 04 SECONDS VISIT HTTPS://MYMEMORY.TRANSLATED.NET/DOC/USAGELIMITS.PHP TO TRANSLATE MORE"
   ]
  },
  {
   "cell_type": "markdown",
   "id": "75533728",
   "metadata": {},
   "source": [
    "MYMEMORY WARNING: YOU USED ALL AVAILABLE FREE TRANSLATIONS FOR TODAY. NEXT AVAILABLE IN  07 HOURS 26 MINUTES 03 SECONDS VISIT HTTPS://MYMEMORY.TRANSLATED.NET/DOC/USAGELIMITS.PHP TO TRANSLATE MORE"
   ]
  },
  {
   "cell_type": "markdown",
   "id": "1d4938d8",
   "metadata": {},
   "source": [
    "MYMEMORY WARNING: YOU USED ALL AVAILABLE FREE TRANSLATIONS FOR TODAY. NEXT AVAILABLE IN  07 HOURS 26 MINUTES 02 SECONDS VISIT HTTPS://MYMEMORY.TRANSLATED.NET/DOC/USAGELIMITS.PHP TO TRANSLATE MORE"
   ]
  },
  {
   "cell_type": "code",
   "execution_count": 4,
   "id": "88d49574",
   "metadata": {
    "tags": [
     "remove-input"
    ]
   },
   "outputs": [],
   "source": [
    "import warnings\n",
    "\n",
    "warnings.filterwarnings(\"ignore\")"
   ]
  },
  {
   "cell_type": "markdown",
   "id": "08b64ef1",
   "metadata": {},
   "source": [
    "MYMEMORY WARNING: YOU USED ALL AVAILABLE FREE TRANSLATIONS FOR TODAY. NEXT AVAILABLE IN  07 HOURS 26 MINUTES 02 SECONDS VISIT HTTPS://MYMEMORY.TRANSLATED.NET/DOC/USAGELIMITS.PHP TO TRANSLATE MORE"
   ]
  },
  {
   "cell_type": "code",
   "execution_count": 5,
   "id": "5dea6391",
   "metadata": {},
   "outputs": [
    {
     "name": "stdout",
     "output_type": "stream",
     "text": [
      "\u001b[92m→\u001b[0m loaded Transform('BKLauFLQ59iM0000'), re-started Run('XWrs7CnE...') at 2025-05-27 21:08:02 UTC\n",
      "\u001b[92m→\u001b[0m notebook imports: lamindb==1.5.3\n",
      "\u001b[94m•\u001b[0m recommendation: to identify the notebook across renames, pass the uid: ln.track(\"BKLauFLQ59iM\")\n"
     ]
    }
   ],
   "source": [
    "import lamindb as ln\n",
    "\n",
    "assert ln.setup.settings.instance.slug == \"theislab/sc-best-practices\"\n",
    "\n",
    "ln.track()\n",
    "af = ln.Artifact.get(key=\"introduction/interoperability_mdata.h5mu\", is_latest=True)\n",
    "adata = af.load()"
   ]
  },
  {
   "cell_type": "markdown",
   "id": "4118334e",
   "metadata": {},
   "source": [
    "MYMEMORY WARNING: YOU USED ALL AVAILABLE FREE TRANSLATIONS FOR TODAY. NEXT AVAILABLE IN  07 HOURS 26 MINUTES 01 SECONDS VISIT HTTPS://MYMEMORY.TRANSLATED.NET/DOC/USAGELIMITS.PHP TO TRANSLATE MORE"
   ]
  },
  {
   "cell_type": "code",
   "execution_count": 6,
   "id": "cbe8f16e",
   "metadata": {},
   "outputs": [
    {
     "name": "stdout",
     "output_type": "stream",
     "text": [
      "\u001b[94m•\u001b[0m please hit CMD + s to save the notebook in your editor ... \u001b[92m✓\u001b[0m\n",
      "\u001b[93m!\u001b[0m cells [(0, 4), (5, 5), (5, 4), (4, 6)] were not run consecutively\n",
      "\u001b[92m→\u001b[0m finished Run('XWrs7CnE') after 15s at 2025-05-27 21:08:18 UTC\n",
      "\u001b[92m→\u001b[0m go to: https://lamin.ai/theislab/sc-best-practices/transform/BKLauFLQ59iM0000\n",
      "\u001b[92m→\u001b[0m to update your notebook from the CLI, run: lamin save /Users/luisheinzlmeier/Desktop/Helmholtz/single-cell-best-practices/jupyter-book/template/template.ipynb\n"
     ]
    }
   ],
   "source": [
    "ln.finish()"
   ]
  },
  {
   "cell_type": "markdown",
   "id": "4d122b39",
   "metadata": {},
   "source": [
    "MYMEMORY WARNING: YOU USED ALL AVAILABLE FREE TRANSLATIONS FOR TODAY. NEXT AVAILABLE IN  07 HOURS 26 MINUTES 00 SECONDS VISIT HTTPS://MYMEMORY.TRANSLATED.NET/DOC/USAGELIMITS.PHP TO TRANSLATE MORE"
   ]
  },
  {
   "cell_type": "markdown",
   "id": "5db14c10",
   "metadata": {},
   "source": [
    "MYMEMORY WARNING: YOU USED ALL AVAILABLE FREE TRANSLATIONS FOR TODAY. NEXT AVAILABLE IN  07 HOURS 25 MINUTES 59 SECONDS VISIT HTTPS://MYMEMORY.TRANSLATED.NET/DOC/USAGELIMITS.PHP TO TRANSLATE MORE"
   ]
  },
  {
   "cell_type": "markdown",
   "id": "e5a3ec95",
   "metadata": {},
   "source": [
    "MYMEMORY WARNING: YOU USED ALL AVAILABLE FREE TRANSLATIONS FOR TODAY. NEXT AVAILABLE IN  07 HOURS 25 MINUTES 59 SECONDS VISIT HTTPS://MYMEMORY.TRANSLATED.NET/DOC/USAGELIMITS.PHP TO TRANSLATE MORE"
   ]
  },
  {
   "cell_type": "markdown",
   "id": "9daa4aa7",
   "metadata": {},
   "source": [
    "MYMEMORY WARNING: YOU USED ALL AVAILABLE FREE TRANSLATIONS FOR TODAY. NEXT AVAILABLE IN  07 HOURS 25 MINUTES 58 SECONDS VISIT HTTPS://MYMEMORY.TRANSLATED.NET/DOC/USAGELIMITS.PHP TO TRANSLATE MORE"
   ]
  },
  {
   "cell_type": "code",
   "execution_count": 5,
   "id": "e7c6364f",
   "metadata": {
    "tags": [
     "hide-output"
    ]
   },
   "outputs": [
    {
     "name": "stdout",
     "output_type": "stream",
     "text": [
      "This console output is hidden in a drop-down window.\n"
     ]
    }
   ],
   "source": [
    "print(\"This console output is hidden in a drop-down window.\")"
   ]
  },
  {
   "cell_type": "code",
   "execution_count": 4,
   "id": "dc061509",
   "metadata": {
    "tags": [
     "hide-input"
    ]
   },
   "outputs": [
    {
     "name": "stdout",
     "output_type": "stream",
     "text": [
      "This code block is hidden in a drop-down window.\n"
     ]
    }
   ],
   "source": [
    "print(\"This code block is hidden in a drop-down window.\")"
   ]
  },
  {
   "cell_type": "markdown",
   "id": "e160664b",
   "metadata": {},
   "source": [
    "MYMEMORY WARNING: YOU USED ALL AVAILABLE FREE TRANSLATIONS FOR TODAY. NEXT AVAILABLE IN  07 HOURS 25 MINUTES 57 SECONDS VISIT HTTPS://MYMEMORY.TRANSLATED.NET/DOC/USAGELIMITS.PHP TO TRANSLATE MORE"
   ]
  },
  {
   "cell_type": "markdown",
   "id": "b00613ad",
   "metadata": {},
   "source": [
    "MYMEMORY WARNING: YOU USED ALL AVAILABLE FREE TRANSLATIONS FOR TODAY. NEXT AVAILABLE IN  07 HOURS 25 MINUTES 56 SECONDS VISIT HTTPS://MYMEMORY.TRANSLATED.NET/DOC/USAGELIMITS.PHP TO TRANSLATE MORE"
   ]
  },
  {
   "cell_type": "markdown",
   "id": "41d7e2eb",
   "metadata": {},
   "source": [
    "MYMEMORY WARNING: YOU USED ALL AVAILABLE FREE TRANSLATIONS FOR TODAY. NEXT AVAILABLE IN  07 HOURS 25 MINUTES 56 SECONDS VISIT HTTPS://MYMEMORY.TRANSLATED.NET/DOC/USAGELIMITS.PHP TO TRANSLATE MORE"
   ]
  },
  {
   "cell_type": "code",
   "execution_count": 6,
   "id": "8b4cc05f",
   "metadata": {
    "tags": [
     "remove-input"
    ]
   },
   "outputs": [
    {
     "data": {
      "text/html": [
       "\n",
       "    <style>\n",
       "        .output.text_html {\n",
       "            --pst-color-text-base: transparent !important;\n",
       "        }\n",
       "        .flip-card-q1 {\n",
       "            background-color: transparent;\n",
       "            width: 350px;\n",
       "            height: 200px;\n",
       "            perspective: 1000px;\n",
       "            display: inline-block;\n",
       "            margin: 10px;\n",
       "            text-align: center;\n",
       "            padding: 10px;\n",
       "        }\n",
       "        .flip-card-inner-q1 {\n",
       "            position: relative;\n",
       "            width: 100%;\n",
       "            height: 100%;\n",
       "            text-align: center;\n",
       "            transition: transform 0.6s;\n",
       "            transform-style: preserve-3d;\n",
       "            transform-origin: center;\n",
       "        }\n",
       "        .flip-card-q1:hover .flip-card-inner-q1 {\n",
       "            transform: rotateY(180deg);\n",
       "        }\n",
       "        .flip-card-front-q1, .flip-card-back-q1 {\n",
       "            position: absolute;\n",
       "            width: 100%;\n",
       "            height: 100%;\n",
       "            min-height: 200px;\n",
       "            backface-visibility: hidden;\n",
       "            display: flex;\n",
       "            align-items: center;\n",
       "            justify-content: center;\n",
       "            font-weight: bold;\n",
       "            color: white;\n",
       "            padding: 20px;\n",
       "            border-radius: 15px;\n",
       "            box-sizing: border-box;\n",
       "            overflow: hidden;\n",
       "            text-align: center;\n",
       "        }\n",
       "        .flip-card-front-q1 {\n",
       "            background-color: #3965a3;\n",
       "            font-size: 20px;\n",
       "        }\n",
       "        .flip-card-back-q1 {\n",
       "            background-color: #a8d480;\n",
       "            transform: rotateY(180deg);\n",
       "            font-size: 20px;\n",
       "        }_b\n",
       "    </style>\n",
       "\n",
       "    <div class=\"flip-card-q1\">\n",
       "        <div class=\"flip-card-inner-q1\">\n",
       "            <div class=\"flip-card-front-q1\">\n",
       "                What is 2 + 2?\n",
       "            </div>\n",
       "            <div class=\"flip-card-back-q1\">\n",
       "                4\n",
       "            </div>\n",
       "        </div>\n",
       "    </div>\n",
       "    <noscript>\n",
       "        <p><strong>Q:</strong> What is 2 + 2?</p>\n",
       "        <p><strong>Answer:</strong> 4</p>\n",
       "    </noscript>\n",
       "    "
      ],
      "text/plain": [
       "<IPython.core.display.HTML object>"
      ]
     },
     "metadata": {},
     "output_type": "display_data"
    },
    {
     "data": {
      "text/html": [
       "\n",
       "    <style>\n",
       "        .output.text_html {\n",
       "            --pst-color-text-base: transparent !important;\n",
       "        }\n",
       "        .mcq-box {\n",
       "            border: none !important;\n",
       "            box-shadow: none !important;\n",
       "            outline: none !important;\n",
       "            padding: 15px;\n",
       "            width: 400px;\n",
       "            text-align: left;\n",
       "            font-size: 18px;\n",
       "            margin-bottom: 10px;\n",
       "            background-color: #3965a3;\n",
       "            border-radius: 10px;\n",
       "            color: white;\n",
       "        }\n",
       "    </style>\n",
       "\n",
       "    <div class=\"mcq-box\">\n",
       "        <p><strong>What is the capital of France?</strong></p>\n",
       "        \n",
       "        <label style=\"color: white;\">\n",
       "            <input type=\"radio\" name=\"qq1\" value=\"Paris\"\n",
       "            onclick=\"checkAnswer(this, 'Paris', '', 'feedback-q1')\"> Paris\n",
       "        </label><br>\n",
       "        \n",
       "        <label style=\"color: white;\">\n",
       "            <input type=\"radio\" name=\"qq1\" value=\"London\"\n",
       "            onclick=\"checkAnswer(this, 'Paris', 'London is the capital of the UK', 'feedback-q1')\"> London\n",
       "        </label><br>\n",
       "        \n",
       "        <label style=\"color: white;\">\n",
       "            <input type=\"radio\" name=\"qq1\" value=\"Berlin\"\n",
       "            onclick=\"checkAnswer(this, 'Paris', 'Berlin is the capital of Germany', 'feedback-q1')\"> Berlin\n",
       "        </label><br>\n",
       "        \n",
       "        <label style=\"color: white;\">\n",
       "            <input type=\"radio\" name=\"qq1\" value=\"Madrid\"\n",
       "            onclick=\"checkAnswer(this, 'Paris', 'Madrid is the capital of Spain', 'feedback-q1')\"> Madrid\n",
       "        </label><br>\n",
       "        \n",
       "        <p id=\"feedback-q1\" style=\"font-weight: bold;\"></p>\n",
       "        <p class=\"mcq-answer-q1\" style=\"display: none; font-weight: bold; color: red;\">\n",
       "            ✔ Correct Answer: Paris\n",
       "        </p>\n",
       "    </div>\n",
       "\n",
       "    <script>\n",
       "    function checkAnswer(element, correct, explanation, feedbackId) {\n",
       "        let feedback = document.getElementById(feedbackId);\n",
       "        if (element.value === correct) {\n",
       "            feedback.innerHTML = \"✅ Correct!\";\n",
       "            feedback.style.color = \"#a8d480\";\n",
       "        } else {\n",
       "            feedback.innerHTML = \"❌ Incorrect! \" + explanation;\n",
       "            feedback.style.color = \"#EE4B2B\";\n",
       "        }\n",
       "    }\n",
       "    </script>\n",
       "    "
      ],
      "text/plain": [
       "<IPython.core.display.HTML object>"
      ]
     },
     "metadata": {},
     "output_type": "display_data"
    }
   ],
   "source": [
    "%run ../src/lib.py\n",
    "flip_card(\"q1\", \"What is 2 + 2?\", \"4\")\n",
    "multiple_choice_question(\n",
    "    \"q1\",\n",
    "    \"What is the capital of France?\",\n",
    "    [\"Paris\", \"London\", \"Berlin\", \"Madrid\"],\n",
    "    \"Paris\",\n",
    "    {\n",
    "        \"London\": \"London is the capital of the UK\",\n",
    "        \"Berlin\": \"Berlin is the capital of Germany\",\n",
    "        \"Madrid\": \"Madrid is the capital of Spain\",\n",
    "    },\n",
    ")"
   ]
  },
  {
   "cell_type": "markdown",
   "id": "ec9a9a1d",
   "metadata": {},
   "source": [
    "MYMEMORY WARNING: YOU USED ALL AVAILABLE FREE TRANSLATIONS FOR TODAY. NEXT AVAILABLE IN  07 HOURS 25 MINUTES 55 SECONDS VISIT HTTPS://MYMEMORY.TRANSLATED.NET/DOC/USAGELIMITS.PHP TO TRANSLATE MORE"
   ]
  },
  {
   "cell_type": "markdown",
   "id": "d6bc6faf",
   "metadata": {},
   "source": [
    "MYMEMORY WARNING: YOU USED ALL AVAILABLE FREE TRANSLATIONS FOR TODAY. NEXT AVAILABLE IN  07 HOURS 25 MINUTES 54 SECONDS VISIT HTTPS://MYMEMORY.TRANSLATED.NET/DOC/USAGELIMITS.PHP TO TRANSLATE MORE"
   ]
  }
 ],
 "metadata": {
  "kernelspec": {
   "display_name": "data_structures_and_frameworks_advanced",
   "language": "python",
   "name": "python3"
  },
  "language_info": {
   "codemirror_mode": {
    "name": "ipython",
    "version": 3
   },
   "file_extension": ".py",
   "mimetype": "text/x-python",
   "name": "python",
   "nbconvert_exporter": "python",
   "pygments_lexer": "ipython3",
   "version": "3.12.9"
  }
 },
 "nbformat": 4,
 "nbformat_minor": 5
}
