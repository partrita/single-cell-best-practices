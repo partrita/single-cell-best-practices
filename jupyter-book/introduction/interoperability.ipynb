{
 "cells": [
  {
   "cell_type": "markdown",
   "metadata": {},
   "source": [
    "# 상호운용성"
   ]
  },
  {
   "cell_type": "markdown",
   "metadata": {},
   "source": [
    "(introduction-interoperability-key-takeaway-1)=\n",
    "(introduction-interoperability-key-takeaway-4)=\n",
    "## 동기 부여"
   ]
  },
  {
   "cell_type": "markdown",
   "metadata": {},
   "source": [
    "{ref}`분석 프레임워크 및 도구 장 <introduction:analysis-frameworks>`에서 논의한 바와 같이, 단일 세포 분석을 위한 세 가지 주요 생태계가 있습니다: R의 [Bioconductor](https://bioconductor.org/) 및 [Seurat](https://satijalab.org/seurat/index.html) 생태계와 Python 기반의 [scverse](https://scverse.org/) 생태계입니다.\n",
    "신규 분석가들이 흔히 묻는 질문은 어떤 생태계를 중점적으로 배우고 사용해야 하는가입니다.\n",
    "처음에는 하나에 집중하는 것이 합리적이고, 어떤 생태계에서든 성공적인 표준 분석을 수행할 수 있지만, 우리는 유능한 분석가라면 세 가지 생태계 모두에 익숙하고 그 사이를 편안하게 이동할 수 있어야 한다는 생각을 권장합니다.\n",
    "이러한 접근 방식을 통해 분석가들은 구현 방식에 상관없이 최고의 성능을 내는 도구와 방법을 사용할 수 있습니다.\n",
    "분석가들이 생태계 간 이동에 익숙하지 않을 때, 다른 생태계의 패키지에 비해 단점이 있는 것으로 나타났음에도 불구하고 접근하기 쉬운 패키지를 사용하는 경향이 있습니다.\n",
    "분석가들이 생태계 간에 이동할 수 있는 능력은 개발자들이 프로그래밍 언어의 다양한 강점을 활용할 수 있게 해줍니다.\n",
    "예를 들어, R은 복잡한 통계 모델링을 위한 강력한 내장 지원을 제공하는 반면, 대부분의 딥러닝 라이브러리는 Python에 중점을 둡니다.\n",
    "공통 디스크 기반 데이터 형식과 인메모리 데이터 구조를 지원함으로써 개발자들은 분석가들이 자신의 패키지에 접근하고 자신의 방법에 가장 적합한 플랫폼을 사용할 수 있다고 확신할 수 있습니다.\n",
    "여러 생태계에 익숙해지는 또 다른 동기는 데이터, 결과 및 문서의 접근성과 가용성입니다.\n",
    "데이터나 결과는 종종 하나의 형식으로만 제공되므로 분석가들은 해당 형식에 익숙해야 접근할 수 있습니다.\n",
    "어떤 방법을 사용할지 결정할 때 패키지 문서와 튜토리얼을 이해하기 위해서는 다른 생태계에 대한 기본적인 이해도 필요합니다.\n",
    "\n",
    "우리는 분석가들이 모든 주요 생태계에 익숙해지도록 권장하지만, 그들 사이를 이동하는 것은 상호 운용이 가능할 때만 가능합니다.\n",
    "다행히도 이 분야에서 많은 작업이 이루어졌으며, 이제 대부분의 경우 표준 패키지를 사용하는 것이 비교적 간단합니다.\n",
    "이 장에서는 디스크나 메모리를 통해 생태계 간에 데이터를 이동하는 다양한 방법, 그 차이점, 그리고 장점에 대해 논의합니다.\n",
    "우리는 단일 모달리티 데이터와 R과 Python 간의 이동에 중점을 두는데, 이것이 가장 일반적인 경우이기 때문입니다. 하지만 다중 모달리티 데이터와 다른 언어에 대해서도 간략히 다룹니다.\n",
    "\n",
    "이 장을 진행하기 전에 먼저 필요한 모든 Python 패키지를 가져옵니다."
   ]
  },
  {
   "cell_type": "code",
   "execution_count": 2,
   "metadata": {},
   "outputs": [
    {
     "name": "stdout",
     "output_type": "stream",
     "text": [
      "\u001b[92m→\u001b[0m connected lamindb: theislab/sc-best-practices\n",
      "\u001b[92m→\u001b[0m created Transform('QaILJZMpZyJ40000'), started new Run('1YEGroVZ...') at 2025-03-26 12:58:46 UTC\n"
     ]
    }
   ],
   "source": [
    "import tempfile\n",
    "from pathlib import Path\n",
    "\n",
    "import anndata2ri\n",
    "import lamindb as ln\n",
    "import rpy2.robjects\n",
    "\n",
    "%load_ext rpy2.ipython\n",
    "\n",
    "assert ln.setup.settings.instance.slug == \"theislab/sc-best-practices\"\n",
    "\n",
    "ln.track()"
   ]
  },
  {
   "cell_type": "markdown",
   "metadata": {},
   "source": [
    "## 명명법\n",
    "\n",
    "여러 언어에 대해 이야기하는 것이 혼란스러울 수 있으므로 다음과 같은 규칙을 사용하려고 합니다:\n",
    "\n",
    "- **{package}** - R 패키지\n",
    "- `package::function()` - R 패키지의 함수\n",
    "- **package** - Python 패키지\n",
    "- `package.function()` - Python 패키지의 함수\n",
    "- **강조** - 기타 중요한 개념\n",
    "- `code` - 객체, 변수 등 코드의 다른 부분. 파일이나 디렉토리에도 사용됩니다."
   ]
  },
  {
   "cell_type": "markdown",
   "metadata": {},
   "source": [
    "## 디스크 기반 상호운용성"
   ]
  },
  {
   "cell_type": "markdown",
   "metadata": {},
   "source": [
    "언어 간 이동의 첫 번째 접근 방식은 디스크 기반 상호운용성입니다.\n",
    "이는 한 언어에서 파일을 디스크에 쓰고 다른 언어에서 해당 파일을 읽는 것을 포함합니다.\n",
    "많은 경우 이 접근 방식은 아래에서 설명할 인메모리 상호운용성보다 간단하고 신뢰할 수 있으며 확장 가능합니다.\n",
    "하지만 저장 공간 요구 사항이 커지고 상호 작용성이 감소하는 단점이 있습니다.\n",
    "디스크 기반 상호운용성은 분석의 각 단계에 대한 프로세스가 확립되어 있고 한 객체에서 다음 객체로 전달하고자 할 때 특히 잘 작동합니다(특히 [Nextflow](https://www.nextflow.io/index.html) 또는 [snakemake](https://snakemake.readthedocs.io/en/stable/)와 같은 워크플로우 관리자를 사용하여 개발된 파이프라인의 일부로).\n",
    "그러나 디스크 기반 상호운용성은 데이터 탐색이나 방법 실험과 같은 대화형 단계에는 덜 편리합니다. 언어 간에 이동할 때마다 새 파일을 작성해야 하기 때문입니다."
   ]
  },
  {
   "cell_type": "markdown",
   "metadata": {},
   "source": [
    "(introduction-interoperability-key-takeaway-2)=\n",
    "### 간단한 형식"
   ]
  },
  {
   "cell_type": "markdown",
   "metadata": {},
   "source": [
    "단일 세포 데이터용으로 특별히 개발된 파일 형식을 논의하기 전에, CSV, TSV, JSON 등과 같은 일반적인 간단한 텍스트 파일 형식이 언어 간 데이터 전송에 대한 해답이 될 수 있음을 간략하게 언급하고 싶습니다.\n",
    "이러한 형식은 일부 분석이 수행되었고 실험에 대한 정보의 일부를 전송하려는 경우에 잘 작동합니다.\n",
    "예를 들어, 세포 메타데이터만 전송하고 특징 메타데이터, 발현 행렬 등은 필요하지 않을 수 있습니다.\n",
    "간단한 텍스트 형식을 사용하는 장점은 거의 모든 언어에서 잘 지원되며 단일 세포 관련 패키지가 필요하지 않다는 것입니다.\n",
    "그러나 전송하려는 내용이 복잡해지면 비실용적이 될 수 있습니다."
   ]
  },
  {
   "cell_type": "markdown",
   "metadata": {},
   "source": [
    "### HDF5 기반 형식"
   ]
  },
  {
   "attachments": {},
   "cell_type": "markdown",
   "metadata": {},
   "source": [
    "[계층적 데이터 형식 버전 5](https://www.hdfgroup.org/solutions/hdf5/) (HDF5)는 단일 세포 데이터를 저장하는 데 가장 일반적인 오픈 소스 파일 형식입니다.\n",
    "이 형식은 컴퓨터의 파일 시스템과 유사한 디렉토리와 같은 구조를 사용하여 크고 복잡하며 이질적인 데이터셋을 위해 설계되었습니다.\n",
    "이를 통해 여러 유형의 데이터를 단일 파일 내에 체계적인 계층 구조로 저장할 수 있습니다. HDF5는 매우 유연하지만, 이와 상호 작용하려면 파일 내에서 데이터가 어떻게 구조화되어 있는지에 대한 지식이 필요합니다.\n",
    "이 프로세스를 표준화하기 위해 HDF5 파일에 단일 세포 데이터를 저장하기 위한 특정 지침이 개발되었습니다."
   ]
  },
  {
   "cell_type": "markdown",
   "metadata": {},
   "source": [
    "#### H5AD"
   ]
  },
  {
   "attachments": {},
   "cell_type": "markdown",
   "metadata": {},
   "source": [
    "H5AD 형식은 scverse 패키지에서 사용하는 `AnnData` 객체의 HDF5 디스크 표현이며 일반적으로 단일 세포 데이터셋을 공유하는 데 사용됩니다.\n",
    "scverse 생태계의 일부이므로 Python에서 이러한 파일을 읽고 쓰는 것은 잘 지원되며 [**anndata** 패키지](https://anndata.readthedocs.io/en/latest/index.html)의 핵심 기능의 일부입니다(형식에 대한 자세한 내용은 [여기](https://anndata.readthedocs.io/en/latest/fileformat-prose.html) 참조).\n",
    "\n",
    "상호운용성을 시연하기 위해, 표준 분석 워크플로우의 일부 단계를 거쳐 다양한 슬롯을 채운 작고 무작위로 생성된 데이터셋을 로드할 것입니다."
   ]
  },
  {
   "cell_type": "code",
   "execution_count": 3,
   "metadata": {},
   "outputs": [
    {
     "data": {
      "text/plain": [
       "AnnData object with n_obs × n_vars = 100 × 2000\n",
       "    obs: 'n_genes_by_counts', 'log1p_n_genes_by_counts', 'total_counts', 'log1p_total_counts', 'pct_counts_in_top_50_genes', 'pct_counts_in_top_100_genes', 'pct_counts_in_top_200_genes', 'pct_counts_in_top_500_genes'\n",
       "    var: 'n_cells_by_counts', 'mean_counts', 'log1p_mean_counts', 'pct_dropout_by_counts', 'total_counts', 'log1p_total_counts', 'highly_variable', 'means', 'dispersions', 'dispersions_norm'\n",
       "    uns: 'hvg', 'log1p', 'neighbors', 'pca', 'umap'\n",
       "    obsm: 'X_pca', 'X_umap'\n",
       "    varm: 'PCs'\n",
       "    layers: 'counts'\n",
       "    obsp: 'connectivities', 'distances'"
      ]
     },
     "execution_count": 3,
     "metadata": {},
     "output_type": "execute_result"
    }
   ],
   "source": [
    "af = ln.Artifact.get(key=\"introduction/interoperability_adata.h5ad\", is_latest=True)\n",
    "adata = af.load()\n",
    "adata"
   ]
  },
  {
   "cell_type": "markdown",
   "metadata": {},
   "source": [
    "이 모의 객체를 H5AD 파일로 디스크에 써서 R에서 해당 파일을 어떻게 읽을 수 있는지 시연할 것입니다."
   ]
  },
  {
   "cell_type": "code",
   "execution_count": 4,
   "metadata": {},
   "outputs": [],
   "source": [
    "temp_dir = tempfile.TemporaryDirectory()\n",
    "h5ad_file = str(Path(temp_dir.name) / \"example.h5ad\")\n",
    "\n",
    "adata.write_h5ad(h5ad_file)"
   ]
  },
  {
   "cell_type": "markdown",
   "metadata": {},
   "source": [
    "여러 R 패키지가 H5AD 파일 읽기 및 쓰기를 지원합니다.\n",
    "그러나 일반적으로 R과 Python 간의 데이터 브리징을 위해 인메모리 변환 단계를 사용하여 파일 처리를 위해 Python **anndata** 패키지를 래핑합니다."
   ]
  },
  {
   "cell_type": "markdown",
   "metadata": {},
   "source": [
    "##### Bioconductor로 H5AD 읽기/쓰기"
   ]
  },
  {
   "attachments": {},
   "cell_type": "markdown",
   "metadata": {},
   "source": [
    "[Bioconductor **{zellkonverter}** 패키지](https://bioconductor.org/packages/zellkonverter/)는 호환되는 Python 환경을 관리하기 위해 [**{basilisk}** 패키지](https://bioconductor.org/packages/basilisk/)를 사용하여 H5AD 파일 처리를 단순화합니다.\n",
    "즉, Bioconductor 사용자가 Python 지식 없이도 H5AD 파일을 원활하게 읽고 쓸 수 있도록 합니다."
   ]
  },
  {
   "cell_type": "markdown",
   "metadata": {},
   "source": [
    "불행히도 이 책이 만들어지는 방식 때문에 여기에서 코드를 직접 실행할 수 없습니다. 대신 R 세션에서 실행될 때의 코드와 출력 모양을 보여드리겠습니다:\n",
    "\n",
    "```r\n",
    "sce <- zellkonverter::readH5AD(h5ad_file, verbose = TRUE)\n",
    "```\n",
    "\n",
    "```\n",
    "ℹ Using the Python reader\n",
    "ℹ Using anndata version 0.8.0\n",
    "✔ Read /.../luke.zappia/Downloads/example.h5ad [113ms]\n",
    "✔ uns$hvg$flavor converted [17ms]\n",
    "✔ uns$hvg converted [50ms]\n",
    "✔ uns$log1p converted [25ms]\n",
    "✔ uns$neighbors converted [18ms]\n",
    "✔ uns$pca$params$use_highly_variable converted [16ms]\n",
    "✔ uns$pca$params$zero_center converted [16ms]\n",
    "✔ uns$pca$params converted [80ms]\n",
    "✔ uns$pca$variance converted [17ms]\n",
    "✔ uns$pca$variance_ratio converted [16ms]\n",
    "✔ uns$pca converted [184ms]\n",
    "✔ uns$umap$params$a converted [16ms]\n",
    "✔ uns$umap$params$b converted [16ms]\n",
    "✔ uns$umap$params converted [80ms]\n",
    "✔ uns$umap converted [112ms]\n",
    "✔ uns converted [490ms]\n",
    "✔ Converting uns to metadata ... done\n",
    "✔ X matrix converted to assay [29ms]\n",
    "✔ layers$counts converted [27ms]\n",
    "✔ Converting layers to assays ... done\n",
    "✔ var converted to rowData [25ms]\n",
    "✔ obs converted to colData [24ms]\n",
    "✔ varm$PCs converted [18ms]\n",
    "✔ varm converted [47ms]\n",
    "✔ Converting varm to rowData$varm ... done\n",
    "✔ obsm$X_pca converted [15ms]\n",
    "✔ obsm$X_umap converted [16ms]\n",
    "✔ obsm converted [80ms]\n",
    "✔ Converting obsm to reducedDims ... done\n",
    "ℹ varp is empty and was skipped\n",
    "✔ obsp$connectivities converted [22ms]\n",
    "✔ obsp$distances converted [23ms]\n",
    "✔ obsp converted [92ms]\n",
    "✔ Converting obsp to colPairs ... done\n",
    "✔ SingleCellExperiment constructed [164ms]\n",
    "ℹ Skipping conversion of raw\n",
    "✔ Converting AnnData to SingleCellExperiment ... done\n",
    "```\n",
    "\n",
    "상세 출력을 켰기 때문에 **{zellkonverter}**가 Python을 사용하여 파일을 읽고 `AnnData` 객체의 각 부분을 Bioconductor `SingleCellExperiment` 객체로 변환하는 방법을 볼 수 있습니다. 결과가 어떻게 보이는지 확인할 수 있습니다:\n",
    "\n",
    "```r\n",
    "sce\n",
    "```\n",
    "\n",
    "```\n",
    "class: SingleCellExperiment\n",
    "dim: 2000 100\n",
    "metadata(5): hvg log1p neighbors pca umap\n",
    "assays(2): X counts\n",
    "rownames(2000): Gene_0 Gene_1 ... Gene_1998 Gene_1999\n",
    "rowData names(11): n_cells_by_counts mean_counts ... dispersions_norm\n",
    "  varm\n",
    "colnames(100): Cell_0 Cell_1 ... Cell_98 Cell_99\n",
    "colData names(8): n_genes_by_counts log1p_n_genes_by_counts ...\n",
    "  pct_counts_in_top_200_genes pct_counts_in_top_500_genes\n",
    "reducedDimNames(2): X_pca X_umap\n",
    "mainExpName: NULL\n",
    "altExpNames(0):\n",
    "```\n",
    "\n",
    "이 객체는 Bioconductor 패키지에서 정상적으로 사용할 수 있습니다. 새 H5AD 파일을 쓰려면 `writeH5AD()` 함수를 사용할 수 있습니다:\n",
    "\n",
    "```r\n",
    "zellkonverter_h5ad_file <- tempfile(fileext = \".h5ad\")\n",
    "zellkonverter::writeH5AD(sce, zellkonverter_h5ad_file, verbose = TRUE)\n",
    "```\n",
    "\n",
    "```\n",
    "ℹ Using anndata version 0.8.0\n",
    "ℹ Using the 'X' assay as the X matrix\n",
    "✔ Selected X matrix [29ms]\n",
    "✔ assays$X converted to X matrix [50ms]\n",
    "✔ additional assays converted to layers [30ms]\n",
    "✔ rowData$varm converted to varm [28ms]\n",
    "✔ reducedDims converted to obsm [68ms]\n",
    "✔ metadata converted to uns [24ms]\n",
    "ℹ rowPairs is empty and was skipped\n",
    "✔ Converting AnnData to SingleCellExperiment ... done\n",
    "✔ Wrote '/.../.../rj/.../T/.../file102cfa97cc51.h5ad ' [133ms]\n",
    "```\n",
    "\n",
    "그런 다음 Python에서 이 파일을 읽을 수 있습니다:\n",
    "\n",
    "```python\n",
    "scanpy.read_h5ad(zellkonverter_h5ad_file)\n",
    "```\n",
    "\n",
    "```\n",
    "AnnData object with n_obs × n_vars = 100 × 2000\n",
    "    obs: 'n_genes_by_counts', 'log1p_n_genes_by_counts', 'total_counts', 'log1p_total_counts', 'pct_counts_in_top_50_genes', 'pct_counts_in_top_100_genes', 'pct_counts_in_top_200_genes', 'pct_counts_in_top_500_genes'\n",
    "    var: 'n_cells_by_counts', 'mean_counts', 'log1p_mean_counts', 'pct_dropout_by_counts', 'total_counts', 'log1p_total_counts', 'highly_variable', 'means', 'dispersions', 'dispersions_norm'\n",
    "    uns: 'X_name', 'hvg', 'log1p', 'neighbors', 'pca', 'umap'\n",
    "    obsm: 'X_pca', 'X_umap'\n",
    "    varm: 'PCs'\n",
    "    layers: 'counts'\n",
    "    obsp: 'connectivities', 'distances'\n",
    "```"
   ]
  },
  {
   "attachments": {},
   "cell_type": "markdown",
   "metadata": {},
   "source": [
    "**{zellkonverter}** 함수를 처음 실행하는 경우 특별한 Conda 환경을 생성하며 시간이 걸릴 수 있습니다.\n",
    "생성된 후에는 이 환경이 후속 함수 호출에 재사용됩니다.\n",
    "**{zellkonverter}**는 객체의 일부를 선택적으로 읽거나 쓰는 것과 같은 옵션도 제공합니다.\n",
    "자세한 내용은 패키지 설명서를 참조하십시오.\n",
    "\n",
    "`SingleCellExperiment` 객체를 H5AD 파일로 쓰는 유사한 기능은 [**{sceasy}** 패키지](https://github.com/cellgeni/sceasy)에서 사용할 수 있습니다.\n",
    "이러한 패키지는 효과적이지만 Python을 래핑하면 약간의 오버헤드가 발생하며, 이는 향후 네이티브 R H5AD 작성기/읽기 프로그램이 최적화하는 데 도움이 될 수 있습니다."
   ]
  },
  {
   "attachments": {},
   "cell_type": "markdown",
   "metadata": {},
   "source": [
    "##### **{Seurat}**으로 H5AD 읽기/쓰기"
   ]
  },
  {
   "cell_type": "markdown",
   "metadata": {},
   "source": [
    "`h5ad_file`은 `Path` 객체이지만, 이 노트북에서 R을 사용하는 방식은 문자열을 기대하므로 `string` 객체로 변환합니다."
   ]
  },
  {
   "cell_type": "code",
   "execution_count": 5,
   "metadata": {},
   "outputs": [],
   "source": [
    "h5ad_file = str(h5ad_file)"
   ]
  },
  {
   "attachments": {},
   "cell_type": "markdown",
   "metadata": {},
   "source": [
    "`Seurat` 객체와 H5AD 파일 간의 변환은 [이 튜토리얼에서 제안한 대로](https://mojaveazure.github.io/seurat-disk/articles/convert-anndata.html) 2단계 프로세스입니다.\n",
    "먼저, H5AD 파일은 [**{SeuratDisk}** 패키지](https://mojaveazure.github.io/seurat-disk/)를 사용하여 `Seurat` 객체를 위한 사용자 정의 HDF5 형식인 H5Seurat 파일로 변환됩니다.\n",
    "그런 다음 H5Seurat 파일은 `Seurat` 객체로 읽힙니다."
   ]
  },
  {
   "cell_type": "code",
   "execution_count": 6,
   "metadata": {},
   "outputs": [
    {
     "name": "stderr",
     "output_type": "stream",
     "text": [
      "R[write to console]: Converting H5AD to H5Seurat...\n",
      "\n"
     ]
    },
    {
     "name": "stdout",
     "output_type": "stream",
     "text": [
      "\n",
      "    WARNING: The R package \"reticulate\" only fixed recently\n",
      "    an issue that caused a segfault when used with rpy2:\n",
      "    https://github.com/rstudio/reticulate/pull/1188\n",
      "    Make sure that you use a version of that package that includes\n",
      "    the fix.\n",
      "    "
     ]
    },
    {
     "name": "stderr",
     "output_type": "stream",
     "text": [
      "R[write to console]: Registered S3 method overwritten by 'SeuratDisk':\n",
      "  method            from  \n",
      "  as.sparse.H5Group Seurat\n",
      "\n",
      "R[write to console]: 경고:\n",
      "R[write to console]:  Unknown file type: h5ad\n",
      "\n",
      "R[write to console]: 경고:\n",
      "R[write to console]:  'assay' not set, setting to 'RNA'\n",
      "\n",
      "R[write to console]: Creating h5Seurat file for version 3.1.5.9900\n",
      "\n",
      "R[write to console]: Adding X as data\n",
      "\n",
      "R[write to console]: Adding X as counts\n",
      "\n",
      "R[write to console]: Adding meta.features from var\n",
      "\n",
      "R[write to console]: Adding X_pca as cell embeddings for pca\n",
      "\n",
      "R[write to console]: Adding X_umap as cell embeddings for umap\n",
      "\n",
      "R[write to console]: Adding PCs as feature loadings fpr pca\n",
      "\n",
      "R[write to console]: Adding miscellaneous information for pca\n",
      "\n",
      "R[write to console]: Adding standard deviations for pca\n",
      "\n",
      "R[write to console]: Adding miscellaneous information for umap\n",
      "\n",
      "R[write to console]: Adding hvg to miscellaneous data\n",
      "\n",
      "R[write to console]: Adding log1p to miscellaneous data\n",
      "\n",
      "R[write to console]: Adding layer counts as data in assay counts\n",
      "\n",
      "R[write to console]: Adding layer counts as counts in assay counts\n",
      "\n",
      "R[write to console]: Reading H5Seurat...\n",
      "\n",
      "R[write to console]: Validating h5Seurat file\n",
      "\n",
      "R[write to console]: 경고:\n",
      "R[write to console]:  Feature names cannot have underscores ('_'), replacing with dashes ('-')\n",
      "\n",
      "R[write to console]: Initializing RNA with data\n",
      "\n",
      "R[write to console]: Adding counts for RNA\n",
      "\n",
      "R[write to console]: Adding feature-level metadata for RNA\n",
      "\n",
      "R[write to console]: Adding reduction pca\n",
      "\n",
      "R[write to console]: Adding cell embeddings for pca\n",
      "\n",
      "R[write to console]: Adding feature loadings for pca\n",
      "\n",
      "R[write to console]: Adding miscellaneous information for pca\n",
      "\n",
      "R[write to console]: Adding reduction umap\n",
      "\n",
      "R[write to console]: Adding cell embeddings for umap\n",
      "\n",
      "R[write to console]: Adding miscellaneous information for umap\n",
      "\n",
      "R[write to console]: Adding command information\n",
      "\n",
      "R[write to console]: Adding cell-level metadata\n",
      "\n",
      "R[write to console]: Read Seurat object:\n",
      "\n"
     ]
    },
    {
     "name": "stdout",
     "output_type": "stream",
     "text": [
      "An object of class Seurat \n",
      "2000 features across 100 samples within 1 assay \n",
      "Active assay: RNA (2000 features, 0 variable features)\n",
      " 2 layers present: counts, data\n",
      " 2 dimensional reductions calculated: pca, umap\n"
     ]
    }
   ],
   "source": [
    "%%R -i h5ad_file\n",
    "\n",
    "message(\"Converting H5AD to H5Seurat...\")\n",
    "SeuratDisk::Convert(h5ad_file, dest = \"h5seurat\", overwrite = TRUE)\n",
    "message(\"Reading H5Seurat...\")\n",
    "h5seurat_file <- gsub(\".h5ad\", \".h5seurat\", h5ad_file)\n",
    "seurat <- SeuratDisk::LoadH5Seurat(h5seurat_file, assays = \"RNA\")\n",
    "message(\"Read Seurat object:\")\n",
    "seurat\n"
   ]
  },
  {
   "attachments": {},
   "cell_type": "markdown",
   "metadata": {},
   "source": [
    "`Seurat` 객체 변환은 구조적 차이로 인해 `AnnData`나 `SingleCellExperiment`에 비해 더 복잡합니다.\n",
    "자세한 내용은 [변환 함수 설명서](https://mojaveazure.github.io/seurat-disk/reference/Convert.html)를 참조하십시오.\n",
    "\n",
    "**{sceasy}** 패키지를 사용하면 H5AD 파일을 `Seurat` 또는 `SingleCellExperiment` 객체로 직접 읽을 수 있습니다.\n",
    "전용 Python 환경에 의존하는 **{zellkonverter}**와 달리, **{sceasy}**는 특별한 설정 없이 Python 함수를 래핑합니다.\n",
    "그러나 이는 환경을 수동으로 구성하고, R이 해당 환경을 찾을 수 있도록 하고, 필요한 패키지를 설치해야 함을 의미합니다."
   ]
  },
  {
   "attachments": {},
   "cell_type": "markdown",
   "metadata": {},
   "source": [
    "```r\n",
    "sceasy_seurat <- sceasy::convertFormat(h5ad_file, from=\"anndata\", to=\"seurat\")\n",
    "sceasy_seurat\n",
    "```\n",
    "```\n",
    "Warning: Feature names cannot have underscores ('_'), replacing with dashes ('-')\n",
    "X -> counts\n",
    "An object of class Seurat\n",
    "2000 features across 100 samples within 1 assay\n",
    "Active assay: RNA (2000 features, 0 variable features)\n",
    " 2 dimensional reductions calculated: pca, umap\n",
    "```"
   ]
  },
  {
   "attachments": {},
   "cell_type": "markdown",
   "metadata": {},
   "source": [
    "##### **{anndata}**로 H5AD 읽기/쓰기\n",
    "\n",
    "R [**{anndata}** 패키지](https://anndata.dynverse.org/index.html)도 H5AD 파일을 읽는 데 사용할 수 있습니다.\n",
    "그러나 위 패키지와 달리 네이티브 R 객체로 변환하지 않습니다.\n",
    "대신 Python 객체에 대한 R 인터페이스를 제공합니다.\n",
    "이는 데이터에 접근하는 데 유용하지만, 이 입력을 받아들이는 분석 패키지는 거의 없으므로 일반적으로 추가적인 인메모리 변환이 필요합니다."
   ]
  },
  {
   "cell_type": "markdown",
   "metadata": {},
   "source": [
    "#### Loom"
   ]
  },
  {
   "attachments": {},
   "cell_type": "markdown",
   "metadata": {},
   "source": [
    "[Loom 파일 형식](http://loompy.org/)은 omics 데이터를 위한 오래된 HDF5 기반 사양입니다.\n",
    "`AnnData` 및 `SingleCellExperiment`와 구조적으로 유사하지만 H5AD처럼 특정 분석 생태계에 묶여 있지는 않습니다.\n",
    "Loom 형식 지원은 [R](https://github.com/mojaveazure/loomR)과 [Python](https://pypi.org/project/loompy/) 모두에서 가능하며, Loom 파일을 쓰기 위한 [Bioconductor 패키지](https://bioconductor.org/packages/LoomExperiment/)를 통해서도 가능합니다.\n",
    "그러나 핵심 생태계 패키지에서 제공하는 상위 수준 인터페이스를 사용하는 것이 더 편리한 경우가 많습니다.\n",
    "데이터셋 공유 외에도, Loom 파일은 {ref}`RNA 속도 분석 <trajectories:rna-velocity>`을 위해 [velocyto](http://velocyto.org/)를 사용하여 접합 및 미접합 판독값을 분석할 때 흔히 접하게 됩니다."
   ]
  },
  {
   "cell_type": "markdown",
   "metadata": {},
   "source": [
    "### RDS 파일"
   ]
  },
  {
   "cell_type": "markdown",
   "metadata": {},
   "source": [
    "단일 세포 데이터셋을 공유하는 데 사용되는 또 다른 파일 형식은 RDS 형식입니다.\n",
    "이것은 임의의 `R` 객체를 직렬화하는 데 사용되는 이진 형식입니다(Python Pickle 파일과 유사).\n",
    "`SingleCellExperiment`와 `Seurat` 객체가 항상 일치하는 디스크 상 표현을 갖지 않았기 때문에, RDS 파일은 R 분석 결과를 공유하는 데 때때로 사용됩니다.\n",
    "이는 분석 프로젝트 내에서는 괜찮지만, 다른 생태계와의 상호운용성 부족으로 인해 공개적으로 또는 협력자와 데이터를 공유하는 데 사용하는 것은 권장하지 않습니다.\n",
    "대신, 여러 언어에서 읽을 수 있는 위에서 언급한 HDF5 형식 중 하나를 사용하는 것이 좋습니다."
   ]
  },
  {
   "cell_type": "markdown",
   "metadata": {},
   "source": [
    "### 새로운 디스크 상 형식"
   ]
  },
  {
   "attachments": {},
   "cell_type": "markdown",
   "metadata": {},
   "source": [
    "HDF5 기반 형식이 현재 단일 세포 데이터의 디스크 상 표현의 표준이지만, [Zarr](https://zarr.dev/) 및 [TileDB](https://tiledb.com/)와 같은 다른 최신 기술은 특히 매우 큰 데이터셋 및 기타 양식에 대해 몇 가지 장점이 있습니다.\n",
    "우리는 이러한 형식에 대한 사양이 향후 개발될 것으로 예상하며, 이는 커뮤니티에서 채택될 수 있습니다(**anndata**는 이미 Zarr 파일을 지원합니다)."
   ]
  },
  {
   "cell_type": "markdown",
   "metadata": {},
   "source": [
    "```{admonition} 핵심 사항\n",
    "- `SingleCellExperiment`: R의 단일 세포 데이터에 대한 Bioconductor 표준. `Anndata`와 `SingleCellExperiment` 간의 변환은 `zellkonverter`로 수행할 수 있습니다.\n",
    "- `Seurat`: R의 단일 세포 분석 프레임워크. `SeuratDisk`를 통해 `AnnData`를 읽고 쓰거나 `sceasy`를 통해 변환할 수 있습니다.\n",
    "- `AnnData`: Python의 단일 세포 데이터에 대한 표준 형식\n",
    "```"
   ]
  },
  {
   "cell_type": "markdown",
   "metadata": {},
   "source": [
    "## 인메모리 상호운용성"
   ]
  },
  {
   "cell_type": "markdown",
   "metadata": {},
   "source": [
    "상호운용성의 두 번째 접근 방식은 객체의 인메모리 표현에 대해 작업하는 것입니다.\n",
    "이 접근 방식은 두 프로그래밍 언어의 활성 세션을 동시에 실행하고 둘 다에서 동일한 객체에 액세스하거나 필요에 따라 변환하는 것을 포함합니다.\n",
    "일반적으로 한 언어가 주 환경 역할을 하고 다른 언어에 대한 인터페이스가 있습니다.\n",
    "이는 분석가가 두 언어에서 동시에 작업할 수 있도록 하므로 대화형 분석에 매우 유용할 수 있습니다.\n",
    "또한 여러 언어를 사용하는 문서(예: 이 책)를 만들 때 자주 사용됩니다.\n",
    "그러나 인메모리 상호운용성에는 몇 가지 단점이 있습니다.\n",
    "분석가는 두 환경을 설정하고 사용하는 데 익숙해야 하며, 복잡한 객체는 언어 간에 완전히 지원되지 않을 수 있으며, 데이터 중복은 메모리 오버헤드를 증가시켜 대용량 데이터셋에는 덜 적합합니다."
   ]
  },
  {
   "cell_type": "markdown",
   "metadata": {},
   "source": [
    "### R 생태계 간 상호운용성"
   ]
  },
  {
   "attachments": {},
   "cell_type": "markdown",
   "metadata": {},
   "source": [
    "R과 Python 간의 인메모리 상호운용성을 살펴보기 전에, 두 R 생태계 간 변환이라는 더 간단한 경우를 고려해 보겠습니다.\n",
    "**{Seurat}** 패키지는 [이 비네트에서 설명한 대로](https://satijalab.org/seurat/articles/conversion_vignette.html) 이 변환을 수행하는 함수를 제공합니다."
   ]
  },
  {
   "cell_type": "code",
   "execution_count": 7,
   "metadata": {},
   "outputs": [
    {
     "name": "stdout",
     "output_type": "stream",
     "text": [
      "class: SingleCellExperiment \n",
      "dim: 2000 100 \n",
      "metadata(0):\n",
      "assays(2): counts logcounts\n",
      "rownames(2000): Gene-0 Gene-1 ... Gene-1998 Gene-1999\n",
      "rowData names(0):\n",
      "colnames(100): Cell_0 Cell_1 ... Cell_98 Cell_99\n",
      "colData names(9): n_genes_by_counts log1p_n_genes_by_counts ...\n",
      "  pct_counts_in_top_500_genes ident\n",
      "reducedDimNames(2): PCA UMAP\n",
      "mainExpName: RNA\n",
      "altExpNames(0):\n"
     ]
    }
   ],
   "source": [
    "%%R\n",
    "sce_from_seurat <- Seurat::as.SingleCellExperiment(seurat)\n",
    "sce_from_seurat\n"
   ]
  },
  {
   "cell_type": "code",
   "execution_count": 8,
   "metadata": {},
   "outputs": [
    {
     "name": "stdout",
     "output_type": "stream",
     "text": [
      "An object of class Seurat \n",
      "2000 features across 100 samples within 1 assay \n",
      "Active assay: RNA (2000 features, 0 variable features)\n",
      " 2 layers present: counts, data\n",
      " 2 dimensional reductions calculated: PCA, UMAP\n"
     ]
    }
   ],
   "source": [
    "%%R\n",
    "seurat_from_sce <- Seurat::as.Seurat(sce_from_seurat)\n",
    "seurat_from_sce\n"
   ]
  },
  {
   "attachments": {},
   "cell_type": "markdown",
   "metadata": {},
   "source": [
    "여기서 어려운 부분은 두 객체의 구조 차이 때문입니다.\n",
    "변환 함수가 어떤 정보를 변환하고 어디에 배치할지 알 수 있도록 인수가 올바르게 설정되었는지 확인하는 것이 중요합니다.\n",
    "\n",
    "많은 경우 `Seurat` 객체를 `SingleCellExperiment`로 변환할 필요가 없을 수 있습니다.\n",
    "이는 단일 세포 분석을 위한 많은 핵심 Bioconductor 패키지가 입력으로 행렬을 허용하도록 설계되었기 때문입니다."
   ]
  },
  {
   "cell_type": "code",
   "execution_count": 9,
   "metadata": {},
   "outputs": [
    {
     "name": "stdout",
     "output_type": "stream",
     "text": [
      "10 x 10 sparse Matrix of class \"dgCMatrix\"\n"
     ]
    },
    {
     "name": "stderr",
     "output_type": "stream",
     "text": [
      "R[write to console]:   [[ suppressing 10 column names ‘Cell_0’, ‘Cell_1’, ‘Cell_2’ ... ]]\n",
      "\n"
     ]
    },
    {
     "name": "stdout",
     "output_type": "stream",
     "text": [
      "                                                                      \n",
      "Gene-0 594.0456    .     984.0238  610.329 964.4394 616.4169    .     \n",
      "Gene-1 594.0456 1168.519 622.6029    .     608.7911   .         .     \n",
      "Gene-2   .         .     984.0238    .     608.7911 973.2674 1205.5970\n",
      "Gene-3 594.0456    .     622.6029  610.329 964.4394 616.4169    .     \n",
      "Gene-4 594.0456    .     622.6029  966.820 964.4394   .         .     \n",
      "Gene-5 594.0456  580.157 622.6029  610.329 608.7911   .       601.7422\n",
      "Gene-6   .         .     622.6029  610.329   .      616.4169  601.7422\n",
      "Gene-7 594.0456  580.157 622.6029  966.820 608.7911 616.4169    .     \n",
      "Gene-8 594.0456  580.157   .      1219.608 608.7911 973.2674    .     \n",
      "Gene-9 942.9097    .       .         .     964.4394   .       954.8014\n",
      "                                    \n",
      "Gene-0  576.0808  619.7236  604.3937\n",
      "Gene-1  918.4111 1234.7593  958.4625\n",
      "Gene-2    .       619.7236 1209.8233\n",
      "Gene-3    .       619.7236  958.4625\n",
      "Gene-4  576.0808  979.8761  604.3937\n",
      "Gene-5    .       619.7236  958.4625\n",
      "Gene-6    .      1234.7593    .     \n",
      "Gene-7    .       619.7236  604.3937\n",
      "Gene-8 1162.8180  979.8761  958.4625\n",
      "Gene-9    .      1234.7593    .     \n"
     ]
    }
   ],
   "source": [
    "%%R\n",
    "# Calculate Counts Per Million using the Bioconductor scuttle package\n",
    "# with a matrix in a Seurat object\n",
    "cpm <- scuttle::calculateCPM(Seurat::GetAssayData(seurat, slot = \"counts\"))\n",
    "cpm[1:10, 1:10]\n"
   ]
  },
  {
   "cell_type": "markdown",
   "metadata": {},
   "source": [
    "그러나 올바른 정보에 액세스하고 필요한 경우 결과를 올바른 위치에 저장하고 있는지 확인하는 것이 중요합니다."
   ]
  },
  {
   "cell_type": "markdown",
   "metadata": {},
   "source": [
    "### Python에서 R에 액세스하기"
   ]
  },
  {
   "attachments": {},
   "cell_type": "markdown",
   "metadata": {},
   "source": [
    "Python에서 R로의 인터페이스는 [**rpy2** 패키지](https://rpy2.github.io/doc/latest/html/index.html)에 의해 제공됩니다.\n",
    "이를 통해 Python에서 R 함수 및 객체에 액세스할 수 있습니다.\n",
    "예를 들어:"
   ]
  },
  {
   "cell_type": "code",
   "execution_count": 10,
   "metadata": {},
   "outputs": [
    {
     "data": {
      "text/html": [
       "\n",
       "        <span>FloatMatrix with 200000 elements.</span>\n",
       "        <table>\n",
       "        <tbody>\n",
       "          <tr>\n",
       "          \n",
       "            <td>\n",
       "            494.804552\n",
       "            </td>\n",
       "          \n",
       "            <td>\n",
       "            494.804552\n",
       "            </td>\n",
       "          \n",
       "            <td>\n",
       "            0.000000\n",
       "            </td>\n",
       "          \n",
       "            <td>\n",
       "            ...\n",
       "            </td>\n",
       "          \n",
       "            <td>\n",
       "            519.750520\n",
       "            </td>\n",
       "          \n",
       "            <td>\n",
       "            519.750520\n",
       "            </td>\n",
       "          \n",
       "            <td>\n",
       "            0.000000\n",
       "            </td>\n",
       "          \n",
       "          </tr>\n",
       "        </tbody>\n",
       "        </table>\n",
       "        "
      ],
      "text/plain": [
       "<rpy2.robjects.vectors.FloatMatrix object at 0x154c0f210> [14]\n",
       "R classes: ('matrix', 'array')\n",
       "[494.804552, 494.804552, 0.000000, 494.804552, ..., 1039.501040, 519.750520, 519.750520, 0.000000]"
      ]
     },
     "execution_count": 10,
     "metadata": {},
     "output_type": "execute_result"
    }
   ],
   "source": [
    "counts_mat = adata.layers[\"counts\"].T.toarray()\n",
    "\n",
    "with rpy2.robjects.conversion.localconverter(rpy2.robjects.numpy2ri.converter):\n",
    "    rpy2.robjects.globalenv[\"counts_mat\"] = counts_mat\n",
    "\n",
    "cpm = rpy2.robjects.r(\"scuttle::calculateCPM(counts_mat)\")\n",
    "cpm"
   ]
  },
  {
   "attachments": {},
   "cell_type": "markdown",
   "metadata": {},
   "source": [
    "일반적인 Python 객체(리스트, 행렬, `DataFrame` 등)도 R로 전달할 수 있습니다.\n",
    "\n",
    "Jupyter 노트북을 사용하고 있다면(이 책에서처럼) IPython 매직 인터페이스를 사용하여 네이티브 R 코드로 셀을 만들 수 있습니다(필요에 따라 객체 전달).\n",
    "예를 들어, 셀을 `%%R -i input -o output`으로 시작하면 `input`을 입력으로 받아 R 코드를 실행한 다음 `output`을 출력으로 반환하라는 의미입니다."
   ]
  },
  {
   "cell_type": "code",
   "execution_count": 11,
   "metadata": {},
   "outputs": [],
   "source": [
    "%%R -i counts_mat -o magic_cpm\n",
    "# R code running using IPython magic\n",
    "magic_cpm <- scuttle::calculateCPM(counts_mat)\n"
   ]
  },
  {
   "cell_type": "code",
   "execution_count": 12,
   "metadata": {},
   "outputs": [
    {
     "data": {
      "text/plain": [
       "array([[ 494.8045522 ,    0.        , 1027.2213662 , ...,    0.        ,\n",
       "           0.        ,  519.75051975],\n",
       "       [ 494.8045522 , 1445.78313253,  513.6106831 , ...,    0.        ,\n",
       "         499.5004995 ,  519.75051975],\n",
       "       [   0.        ,    0.        , 1027.2213662 , ...,  485.90864917,\n",
       "         499.5004995 ,    0.        ],\n",
       "       ...,\n",
       "       [ 494.8045522 ,    0.        ,  513.6106831 , ...,    0.        ,\n",
       "           0.        ,  519.75051975],\n",
       "       [ 989.6091044 ,  481.92771084,    0.        , ...,    0.        ,\n",
       "         499.5004995 ,  519.75051975],\n",
       "       [2474.02276101,  963.85542169,  513.6106831 , ...,  485.90864917,\n",
       "         999.000999  ,    0.        ]])"
      ]
     },
     "execution_count": 12,
     "metadata": {},
     "output_type": "execute_result"
    }
   ],
   "source": [
    "# Python code accessing the results\n",
    "magic_cpm"
   ]
  },
  {
   "attachments": {},
   "cell_type": "markdown",
   "metadata": {},
   "source": [
    "이것이 이후 장에서 가장 흔하게 보게 될 접근 방식입니다.\n",
    "**rpy2** 사용에 대한 자세한 내용은 [설명서](https://rpy2.github.io/doc/latest/html/index.html)를 참조하십시오.\n",
    "\n",
    "이러한 방식으로 단일 세포 데이터를 사용하려면 [**anndata2ri** 패키지](https://icb-anndata2ri.readthedocs-hosted.com/en/latest/)가 특히 유용합니다.\n",
    "**rpy2**의 확장 기능으로, R이 `AnnData` 객체를 `SingleCellExperiment` 객체로 인식하도록 하여 불필요한 변환을 제거하고 Python 객체에서 R 코드를 원활하게 실행할 수 있도록 합니다.\n",
    "또한 희소 **scipy** 행렬의 변환을 용이하게 합니다.\n",
    "\n",
    "이 예에서 Python 세션의 `AnnData` 객체를 R로 전달하려면 먼저 `SingleCellExperiment`로 변환해야 합니다."
   ]
  },
  {
   "cell_type": "code",
   "execution_count": 13,
   "metadata": {},
   "outputs": [],
   "source": [
    "with rpy2.robjects.conversion.localconverter(anndata2ri.converter):\n",
    "    r_adata = rpy2.robjects.conversion.py2rpy(adata)"
   ]
  },
  {
   "cell_type": "markdown",
   "metadata": {},
   "source": [
    "이제 R로 전달할 수 있습니다."
   ]
  },
  {
   "cell_type": "code",
   "execution_count": 14,
   "metadata": {},
   "outputs": [
    {
     "name": "stdout",
     "output_type": "stream",
     "text": [
      "DataFrame with 6 rows and 3 columns\n",
      "             sum  detected     total\n",
      "       <numeric> <integer> <numeric>\n",
      "Cell_0      2021      1297      2021\n",
      "Cell_1      2075      1314      2075\n",
      "Cell_2      1947      1233      1947\n",
      "Cell_3      1986      1250      1986\n",
      "Cell_4      1987      1255      1987\n",
      "Cell_5      1930      1266      1930\n"
     ]
    }
   ],
   "source": [
    "%%R -i r_adata\n",
    "qc <- scuttle::perCellQCMetrics(r_adata)\n",
    "head(qc)"
   ]
  },
  {
   "cell_type": "markdown",
   "metadata": {},
   "source": [
    "객체(또는 그 일부)가 올바르게 인터페이스될 수 없는 경우(예: 지원되지 않는 데이터 유형이 있는 경우) 여전히 문제가 발생할 수 있습니다.\n",
    "이 경우 액세스하기 전에 객체를 수정해야 할 수 있습니다."
   ]
  },
  {
   "cell_type": "markdown",
   "metadata": {},
   "source": [
    "### R에서 Python에 액세스하기"
   ]
  },
  {
   "attachments": {},
   "cell_type": "markdown",
   "metadata": {},
   "source": [
    "R 세션에서 Python에 액세스하는 것은 Python에서 R에 액세스하는 것과 유사하지만 여기서는 인터페이스가 [**{reticulate}** 패키지](https://rstudio.github.io/reticulate/)에 의해 제공됩니다.\n",
    "로드되면 R에서 Python 함수 및 객체에 액세스할 수 있습니다."
   ]
  },
  {
   "cell_type": "code",
   "execution_count": 15,
   "metadata": {},
   "outputs": [
    {
     "name": "stdout",
     "output_type": "stream",
     "text": [
      "List (26 items)\n",
      "<zip object at 0x15d0dc6c0>\n"
     ]
    }
   ],
   "source": [
    "%%R\n",
    "reticulate_list <- reticulate::r_to_py(LETTERS)\n",
    "print(reticulate_list)\n",
    "py_builtins <- reticulate::import_builtins()\n",
    "py_builtins$zip(letters, LETTERS)\n"
   ]
  },
  {
   "attachments": {},
   "cell_type": "markdown",
   "metadata": {},
   "source": [
    "[RMarkdown](https://rmarkdown.rstudio.com/) 또는 [Quarto](https://quarto.org/) 문서에서 작업하는 경우 **{reticulate}** Python 엔진을 사용하여 네이티브 Python 청크를 작성할 수도 있습니다.\n",
    "이렇게 하면 매직 `r` 및 `py` 변수를 사용하여 다른 언어의 객체에 액세스할 수 있습니다(다음 코드는 실행되지 않는 예제입니다)."
   ]
  },
  {
   "attachments": {},
   "cell_type": "markdown",
   "metadata": {},
   "source": [
    "````\n",
    "```{r}\n",
    "# Python 객체에 액세스하는 R 청크\n",
    "print(py$py_object)\n",
    "```\n",
    "\n",
    "```{python}\n",
    "# R 객체에 액세스하는 Python 청크\n",
    "print(r$r_object)\n",
    "```\n",
    "````"
   ]
  },
  {
   "attachments": {},
   "cell_type": "markdown",
   "metadata": {},
   "source": [
    "**anndata2ri**와 달리, Python이 `SingleCellExperiment` 또는 `Seurat` 객체를 `AnnData` 객체로 볼 수 있도록 하는 직접적인 인터페이스를 제공하는 R 패키지는 없습니다.\n",
    "그러나 **{reticulate}**를 사용하여 `AnnData`의 대부분의 부분에 계속 액세스할 수 있습니다(이 코드는 실행되지 않음)."
   ]
  },
  {
   "attachments": {},
   "cell_type": "markdown",
   "metadata": {},
   "source": [
    "```r\n",
    "# Python 환경에서 AnnData 객체 인쇄\n",
    "py$adata\n",
    "```\n",
    "```\n",
    "AnnData object with n_obs × n_vars = 100 × 2000\n",
    "    obs: 'n_genes_by_counts', 'log1p_n_genes_by_counts', 'total_counts', 'log1p_total_counts', 'pct_counts_in_top_50_genes', 'pct_counts_in_top_100_genes', 'pct_counts_in_top_200_genes', 'pct_counts_in_top_500_genes'\n",
    "    var: 'n_cells_by_counts', 'mean_counts', 'log1p_mean_counts', 'pct_dropout_by_counts', 'total_counts', 'log1p_total_counts', 'highly_variable', 'means', 'dispersions', 'dispersions_norm'\n",
    "    uns: 'hvg', 'log1p', 'neighbors', 'pca', 'umap'\n",
    "    obsm: 'X_pca', 'X_umap'\n",
    "    varm: 'PCs'\n",
    "    layers: 'counts'\n",
    "    obsp: 'connectivities', 'distances'\n",
    "```\n",
    "```r\n",
    "# 또는 Python anndata 패키지를 사용하여 H5AD 파일 읽기\n",
    "anndata <- reticulate::import(\"anndata\")\n",
    "anndata$read_h5ad(h5ad_file)\n",
    "```\n",
    "```\n",
    "AnnData object with n_obs × n_vars = 100 × 2000\n",
    "    obs: 'n_genes_by_counts', 'log1p_n_genes_by_counts', 'total_counts', 'log1p_total_counts', 'pct_counts_in_top_50_genes', 'pct_counts_in_top_100_genes', 'pct_counts_in_top_200_genes', 'pct_counts_in_top_500_genes'\n",
    "    var: 'n_cells_by_counts', 'mean_counts', 'log1p_mean_counts', 'pct_dropout_by_counts', 'total_counts', 'log1p_total_counts', 'highly_variable', 'means', 'dispersions', 'dispersions_norm'\n",
    "    uns: 'hvg', 'log1p', 'neighbors', 'pca', 'umap'\n",
    "    obsm: 'X_pca', 'X_umap'\n",
    "    varm: 'PCs'\n",
    "    layers: 'counts'\n",
    "    obsp: 'connectivities', 'distances'\n",
    "```\n",
    "```r\n",
    "# obs 슬롯에 액세스, pandas DataFrame은 자동으로 R data.frame으로 변환됩니다.\n",
    "head(adata$obs)\n",
    "```\n",
    "```\n",
    "       n_genes_by_counts log1p_n_genes_by_counts total_counts\n",
    "Cell_0              1246                7.128496         1965\n",
    "Cell_1              1262                7.141245         2006\n",
    "Cell_2              1262                7.141245         1958\n",
    "Cell_3              1240                7.123673         1960\n",
    "Cell_4              1296                7.167809         2027\n",
    "Cell_5              1231                7.116394         1898\n",
    "       log1p_total_counts pct_counts_in_top_50_genes\n",
    "Cell_0           7.583756                  10.025445\n",
    "Cell_1           7.604396                   9.521436\n",
    "Cell_2           7.580189                   9.959142\n",
    "Cell_3           7.581210                   9.183673\n",
    "Cell_4           7.614805                   9.718796\n",
    "Cell_5           7.549083                  10.168599\n",
    "       pct_counts_in_top_100_genes pct_counts_in_top_200_genes\n",
    "Cell_0                    17.65903                    30.89059\n",
    "Cell_1                    16.99900                    29.71087\n",
    "Cell_2                    17.62002                    30.28601\n",
    "Cell_3                    16.83673                    30.45918\n",
    "Cell_4                    17.11889                    30.04440\n",
    "Cell_5                    18.07165                    30.29505\n",
    "       pct_counts_in_top_500_genes\n",
    "Cell_0                    61.42494\n",
    "Cell_1                    59.62114\n",
    "Cell_2                    60.92952\n",
    "Cell_3                    61.07143\n",
    "Cell_4                    59.64480\n",
    "Cell_5                    61.48577\n",
    "```"
   ]
  },
  {
   "attachments": {},
   "cell_type": "markdown",
   "metadata": {},
   "source": [
    "위에서 언급했듯이 R **{anndata}** 패키지는 `AnnData` 객체에 대한 R 인터페이스를 제공하지만 현재 많은 분석 패키지에서 사용되지 않습니다.\n",
    "\n",
    "전체 객체로 작업해야 하는 더 복잡한 분석의 경우 객체를 R과 Python 간에 완전히 변환해야 할 수 있습니다.\n",
    " 이 접근 방식은 데이터 중복으로 인해 메모리 효율적이지는 않지만 더 넓은 범위의 패키지에 액세스할 수 있습니다.\n",
    "\n",
    "**{zellkonverter}** 패키지는 이 변환을 위한 함수를 제공합니다.\n",
    "H5AD 파일을 읽는 함수와 달리 이 프로세스는 특별히 생성된 환경이 아닌 표준 Python 환경을 사용합니다(코드는 실행되지 않음)."
   ]
  },
  {
   "attachments": {},
   "cell_type": "markdown",
   "metadata": {},
   "source": [
    "```r\n",
    "# AnnData를 SingleCellExperiment로 변환\n",
    "sce <- zellkonverter::AnnData2SCE(adata, verbose = TRUE)\n",
    "sce\n",
    "```\n",
    "```\n",
    "✔ uns$hvg$flavor converted [21ms]\n",
    "✔ uns$hvg converted [62ms]\n",
    "✔ uns$log1p converted [22ms]\n",
    "✔ uns$neighbors converted [21ms]\n",
    "✔ uns$pca$params$use_highly_variable converted [22ms]\n",
    "✔ uns$pca$params$zero_center converted [31ms]\n",
    "✔ uns$pca$params converted [118ms]\n",
    "✔ uns$pca$variance converted [17ms]\n",
    "✔ uns$pca$variance_ratio converted [17ms]\n",
    "✔ uns$pca converted [224ms]\n",
    "✔ uns$umap$params$a converted [15ms]\n",
    "✔ uns$umap$params$b converted [17ms]\n",
    "✔ uns$umap$params converted [80ms]\n",
    "✔ uns$umap converted [115ms]\n",
    "✔ uns converted [582ms]\n",
    "✔ Converting uns to metadata ... done\n",
    "✔ X matrix converted to assay [44ms]\n",
    "✔ layers$counts converted [29ms]\n",
    "✔ Converting layers to assays ... done\n",
    "✔ var converted to rowData [37ms]\n",
    "✔ obs converted to colData [23ms]\n",
    "✔ varm$PCs converted [18ms]\n",
    "✔ varm converted [49ms]\n",
    "✔ Converting varm to rowData$varm ... done\n",
    "✔ obsm$X_pca converted [17ms]\n",
    "✔ obsm$X_umap converted [17ms]\n",
    "✔ obsm converted [80ms]\n",
    "✔ Converting obsm to reducedDims ... done\n",
    "ℹ varp is empty and was skipped\n",
    "✔ obsp$connectivities converted [21ms]\n",
    "✔ obsp$distances converted [22ms]\n",
    "✔ obsp converted [89ms]\n",
    "✔ Converting obsp to colPairs ... done\n",
    "✔ SingleCellExperiment constructed [241ms]\n",
    "ℹ Skipping conversion of raw\n",
    "✔ Converting AnnData to SingleCellExperiment ... done\n",
    "class: SingleCellExperiment\n",
    "dim: 2000 100\n",
    "metadata(5): hvg log1p neighbors pca umap\n",
    "assays(2): X counts\n",
    "rownames(2000): Gene_0 Gene_1 ... Gene_1998 Gene_1999\n",
    "rowData names(11): n_cells_by_counts mean_counts ... dispersions_norm\n",
    "  varm\n",
    "colnames(100): Cell_0 Cell_1 ... Cell_98 Cell_99\n",
    "colData names(8): n_genes_by_counts log1p_n_genes_by_counts ...\n",
    "  pct_counts_in_top_200_genes pct_counts_in_top_500_genes\n",
    "reducedDimNames(2): X_pca X_umap\n",
    "mainExpName: NULL\n",
    "altExpNames(0):\n",
    "```\n",
    "\n",
    "반대로도 동일하게 수행할 수 있습니다:\n",
    "\n",
    "```r\n",
    "adata2 <- zellkonverter::SCE2AnnData(sce, verbose = TRUE)\n",
    "adata2\n",
    "```\n",
    "```\n",
    "ℹ Using the 'X' assay as the X matrix\n",
    "✔ Selected X matrix [27ms]\n",
    "✔ assays$X converted to X matrix [38ms]\n",
    "✔ additional assays converted to layers [31ms]\n",
    "✔ rowData$varm converted to varm [15ms]\n",
    "✔ reducedDims converted to obsm [63ms]\n",
    "✔ metadata converted to uns [23ms]\n",
    "ℹ rowPairs is empty and was skipped\n",
    "✔ Converting AnnData to SingleCellExperiment ... done\n",
    "AnnData object with n_obs × n_vars = 100 × 2000\n",
    "    obs: 'n_genes_by_counts', 'log1p_n_genes_by_counts', 'total_counts', 'log1p_total_counts', 'pct_counts_in_top_50_genes', 'pct_counts_in_top_100_genes', 'pct_counts_in_top_200_genes', 'pct_counts_in_top_500_genes'\n",
    "    var: 'n_cells_by_counts', 'mean_counts', 'log1p_mean_counts', 'pct_dropout_by_counts', 'total_counts', 'log1p_total_counts', 'highly_variable', 'means', 'dispersions', 'dispersions_norm'\n",
    "    uns: 'X_name', 'hvg', 'log1p', 'neighbors', 'pca', 'umap'\n",
    "    obsm: 'X_pca', 'X_umap'\n",
    "    varm: 'PCs'\n",
    "    layers: 'counts'\n",
    "    obsp: 'connectivities', 'distances'\n",
    "```"
   ]
  },
  {
   "cell_type": "markdown",
   "metadata": {},
   "source": [
    "## 다중 모드 데이터의 상호운용성"
   ]
  },
  {
   "attachments": {},
   "cell_type": "markdown",
   "metadata": {},
   "source": [
    "다중 모드 데이터의 복잡성은 상호운용성에 추가적인 과제를 제시합니다.\n",
    "`SingleCellExperiment`(\"대체 실험\"을 통해, 세포에 대해 동일한 열 차원을 공유해야 함)와 `Seurat`(\"분석\" 사용) 모두 여러 양식을 지원합니다.\n",
    "그러나 `AnnData`는 단일 모드 데이터로 제한됩니다.\n",
    "\n",
    "이러한 한계를 해결하기 위해, 다중 모드 데이터셋을 위한 `AnnData`의 확장으로 개발된 `MuData` 객체([분석 프레임워크 및 도구 장]({ref}`분석 프레임워크 및 도구 장 <introduction:analysis-frameworks>`)에서 소개됨)가 있습니다.\n",
    "개발자들은 설계에 상호운용성을 고려했습니다.\n",
    "MuData의 주요 플랫폼은 Python이지만, 저자들은 H5MU 형식의 디스크 상 파일을 `Seurat` 객체로 읽기 위한 [MuDataSeurat R 패키지](https://pmbio.github.io/MuDataSeurat/)와 Bioconductor `MultiAssayExperiment` 객체로 동일한 작업을 수행하기 위한 [MuData R 패키지](https://bioconductor.org/packages/MuData/)를 제공했습니다. 이 공식 지원은 매우 유용하지만 객체 간의 차이로 인해 여전히 일부 불일치가 있습니다. MuData 저자들은 또한 `AnnData`와 `MuData`의 [Julia 구현](https://docs.juliahub.com/Muon/QfqCh/0.1.1/objects/)을 제공합니다.\n",
    "\n",
    "아래는 Python 및 R 패키지를 사용하여 작은 예제 `MuData` 데이터셋을 읽고 쓰는 예제입니다.\n",
    "\n",
    "이를 해결하기 위해, 다중 모드 데이터셋을 위한 `AnnData`의 확장인 `MuData` 객체([분석 프레임워크 및 도구 장]({ref}`분석 프레임워크 및 도구 장 <introduction:analysis-frameworks>`)에서 소개됨)가 있습니다.\n",
    "상호운용성을 염두에 두고 설계된 `MuData`는 주로 Python 기반 프레임워크이지만, 저자들은 [MuDataSeurat R 패키지](https://pmbio.github.io/MuDataSeurat/)를 제공했습니다.\n",
    "이를 통해 H5MU 형식의 디스크 상 파일을 `Seurat` 객체로 읽을 수 있으며, [MuData R 패키지](https://bioconductor.org/packages/MuData/)를 사용하면 `MultiAssayExperiment` 객체로 변환할 수 있습니다.\n",
    "이 공식 지원은 매우 유용하지만 객체 간의 차이로 인해 여전히 일부 불일치가 있습니다.\n",
    "`MuData` 저자들은 또한 `AnnData`와 `MuData`의 [Julia 구현](https://docs.juliahub.com/Muon/QfqCh/0.1.1/objects/)을 제공합니다.\n",
    "\n",
    "아래는 Python 및 R 패키지를 사용하여 작은 예제 `MuData` 데이터셋을 읽고 쓰는 예제입니다."
   ]
  },
  {
   "cell_type": "markdown",
   "metadata": {},
   "source": [
    "### 파이썬"
   ]
  },
  {
   "cell_type": "code",
   "execution_count": 29,
   "metadata": {},
   "outputs": [
    {
     "name": "stderr",
     "output_type": "stream",
     "text": [
      "/Users/seohyon/miniconda3/envs/interoperability/lib/python3.12/site-packages/mudata/_core/mudata.py:1531: FutureWarning: From 0.4 .update() will not pull obs/var columns from individual modalities by default anymore. Set mudata.set_options(pull_on_update=False) to adopt the new behaviour, which will become the default. Use new pull_obs/pull_var and push_obs/push_var methods for more flexibility.\n",
      "  self._update_attr(\"var\", axis=0, join_common=join_common)\n",
      "/Users/seohyon/miniconda3/envs/interoperability/lib/python3.12/site-packages/mudata/_core/mudata.py:1429: FutureWarning: From 0.4 .update() will not pull obs/var columns from individual modalities by default anymore. Set mudata.set_options(pull_on_update=False) to adopt the new behaviour, which will become the default. Use new pull_obs/pull_var and push_obs/push_var methods for more flexibility.\n",
      "  self._update_attr(\"obs\", axis=1, join_common=join_common)\n"
     ]
    },
    {
     "name": "stdout",
     "output_type": "stream",
     "text": [
      "MuData object with n_obs × n_vars = 1000 × 150\n",
      "  var:\t'dummy_var'\n",
      "  2 modalities\n",
      "    A:\t1000 x 100\n",
      "      obs:\t'dummy_obs'\n",
      "      var:\t'dummy_var'\n",
      "    B:\t1000 x 50\n",
      "      obs:\t'dummy_obs'\n",
      "      var:\t'dummy_var'\n"
     ]
    }
   ],
   "source": [
    "# Read file\n",
    "af_mudata = ln.Artifact.get(\n",
    "    key=\"introduction/interoperability_mdata.h5mu\", is_latest=True\n",
    ")\n",
    "mdata = af_mudata.load()\n",
    "print(mdata)"
   ]
  },
  {
   "cell_type": "markdown",
   "metadata": {},
   "source": [
    "### R"
   ]
  },
  {
   "cell_type": "markdown",
   "metadata": {},
   "source": [
    "#### Bioconductor\n",
    "\n",
    "`MultiAssayExperiment` 객체에서 읽기/쓰기"
   ]
  },
  {
   "cell_type": "code",
   "execution_count": 36,
   "metadata": {},
   "outputs": [
    {
     "name": "stdout",
     "output_type": "stream",
     "text": [
      "File copied to: data/interoperability_mdata.h5mu\n"
     ]
    }
   ],
   "source": [
    "import shutil\n",
    "from pathlib import Path\n",
    "\n",
    "# Save MuData file locally for R\n",
    "Path(\"data\").mkdir(parents=True, exist_ok=True)\n",
    "\n",
    "local_path = af_mudata.cache().path\n",
    "\n",
    "target_path = Path(\"data\") / \"interoperability_mdata.h5mu\"\n",
    "shutil.copy(local_path, target_path)\n",
    "print(f\"File copied to: {target_path}\")"
   ]
  },
  {
   "cell_type": "code",
   "execution_count": 37,
   "metadata": {},
   "outputs": [
    {
     "name": "stdout",
     "output_type": "stream",
     "text": [
      "A MultiAssayExperiment object of 2 listed\n",
      " experiments with user-defined names and respective classes.\n",
      " Containing an ExperimentList class object of length 2:\n",
      " [1] A: SingleCellExperiment with 100 rows and 1000 columns\n",
      " [2] B: SingleCellExperiment with 50 rows and 1000 columns\n",
      "Functionality:\n",
      " experiments() - obtain the ExperimentList instance\n",
      " colData() - the primary/phenotype DataFrame\n",
      " sampleMap() - the sample coordination DataFrame\n",
      " `$`, `[`, `[[` - extract colData columns, subset, or experiment\n",
      " *Format() - convert into a long or wide DataFrame\n",
      " assays() - convert ExperimentList to a SimpleList of matrices\n",
      " exportClass() - save data to flat files\n"
     ]
    }
   ],
   "source": [
    "%%R\n",
    "mae <- MuData::readH5MU(\"data/interoperability_mdata.h5mu\")\n",
    "print(mae)\n",
    "\n",
    "bioc_h5mu_file <- tempfile(fileext = \".h5mu\")\n",
    "MuData::writeH5MU(mae, bioc_h5mu_file)\n"
   ]
  },
  {
   "cell_type": "markdown",
   "metadata": {},
   "source": [
    "#### Seurat\n",
    "\n",
    "`Seurat` 객체에서 읽기/쓰기"
   ]
  },
  {
   "cell_type": "code",
   "execution_count": 32,
   "metadata": {},
   "outputs": [
    {
     "name": "stdout",
     "output_type": "stream",
     "text": [
      "An object of class Seurat \n",
      "150 features across 1000 samples within 2 assays \n",
      "Active assay: A (100 features, 0 variable features)\n",
      " 2 layers present: counts, data\n",
      " 1 other assay present: B\n"
     ]
    }
   ],
   "source": [
    "%%R\n",
    "seurat <- MuDataSeurat::ReadH5MU(\"data/interoperability_mdata.h5mu\")\n",
    "print(seurat)\n",
    "\n",
    "seurat_h5mu_file <- tempfile(fileext = \".h5mu\")\n",
    "MuDataSeurat::WriteH5MU(seurat, seurat_h5mu_file)\n"
   ]
  },
  {
   "cell_type": "markdown",
   "metadata": {},
   "source": [
    "## 다른 언어와의 상호운용성"
   ]
  },
  {
   "attachments": {},
   "cell_type": "markdown",
   "metadata": {},
   "source": [
    "여기서는 R과 Python 이외의 언어와 단일 세포 데이터의 상호운용성을 위한 몇 가지 리소스와 도구를 간략하게 나열합니다.\n",
    "\n",
    "### 줄리아\n",
    "\n",
    "- [Muon.jl](https://docs.juliahub.com/Muon/QfqCh/0.1.1/objects/)은 `AnnData` 및 `MuData` 객체의 Julia 구현과 H5AD 및 H5MU 형식에 대한 IO를 제공합니다.\n",
    "- [scVI.jl](https://github.com/maren-ha/scVI.jl)은 `AnnData`의 Julia 구현과 H5AD 형식에 대한 IO를 제공합니다.\n",
    "\n",
    "### 자바스크립트\n",
    "\n",
    "- [Vitessce](http://vitessce.io/)는 Zarr 형식을 사용하여 저장된 `AnnData` 객체의 로더를 포함합니다.\n",
    "- [kana 제품군](https://github.com/jkanche/kana)은 H5AD 파일 및 RDS 파일로 저장된 `SingleCellExperiment` 객체 읽기를 지원합니다.\n",
    "\n",
    "### 러스트\n",
    "\n",
    "- [anndata-rs](https://github.com/kaizhang/anndata-rs)는 AnnData의 Rust 구현과 H5AD 형식에 대한 고급 IO 지원을 제공합니다."
   ]
  },
  {
   "cell_type": "markdown",
   "metadata": {},
   "source": [
    "## 세션 정보"
   ]
  },
  {
   "cell_type": "markdown",
   "metadata": {},
   "source": [
    "## 파이썬"
   ]
  },
  {
   "cell_type": "code",
   "execution_count": 33,
   "metadata": {},
   "outputs": [
    {
     "name": "stderr",
     "output_type": "stream",
     "text": [
      "/Users/seohyon/miniconda3/envs/interoperability/lib/python3.12/site-packages/session_info/main.py:213: UserWarning: The '__version__' attribute is deprecated and will be removed in MarkupSafe 3.1. Use feature detection, or `importlib.metadata.version(\"markupsafe\")`, instead.\n",
      "  mod_version = _find_version(mod.__version__)\n"
     ]
    },
    {
     "data": {
      "text/html": [
       "<details>\n",
       "<summary>Click to view session information</summary>\n",
       "<pre>\n",
       "-----\n",
       "anndata             0.11.3\n",
       "anndata2ri          1.3.2\n",
       "lamindb             1.3.0\n",
       "lamindb_setup       1.3.2\n",
       "mudata              0.3.1\n",
       "numpy               2.1.3\n",
       "rpy2                3.5.11\n",
       "scanpy              1.11.0\n",
       "scipy               1.14.1\n",
       "session_info        1.0.0\n",
       "-----\n",
       "</pre>\n",
       "<details>\n",
       "<summary>Click to view modules imported as dependencies</summary>\n",
       "<pre>\n",
       "PIL                 11.1.0\n",
       "aiobotocore         2.21.1\n",
       "aiohappyeyeballs    2.6.1\n",
       "aiohttp             3.11.14\n",
       "aioitertools        0.12.0\n",
       "aiosignal           1.3.2\n",
       "annotated_types     0.7.0\n",
       "anyio               NA\n",
       "appdirs             1.4.4\n",
       "appnope             0.1.4\n",
       "argcomplete         NA\n",
       "asgiref             3.8.1\n",
       "asttokens           NA\n",
       "attr                25.3.0\n",
       "bionty              1.1.2\n",
       "botocore            1.37.1\n",
       "certifi             2025.01.31\n",
       "chardet             5.2.0\n",
       "charset_normalizer  3.4.1\n",
       "click               8.1.8\n",
       "colorama            0.4.6\n",
       "comm                0.2.2\n",
       "cycler              0.12.1\n",
       "cython_runtime      NA\n",
       "dateutil            2.9.0.post0\n",
       "debugpy             1.8.13\n",
       "decorator           5.2.1\n",
       "defusedxml          0.7.1\n",
       "deprecation         2.1.0\n",
       "dj_database_url     NA\n",
       "django              5.1.7\n",
       "dotenv              NA\n",
       "executing           2.1.0\n",
       "fastobo             0.13.0\n",
       "filelock            3.17.0\n",
       "frozenlist          1.5.0\n",
       "fsspec              2025.2.0\n",
       "gotrue              2.11.4\n",
       "h11                 0.14.0\n",
       "h2                  4.2.0\n",
       "h5py                3.13.0\n",
       "hpack               4.1.0\n",
       "httpcore            1.0.7\n",
       "httpx               0.28.1\n",
       "hyperframe          6.1.0\n",
       "idna                3.10\n",
       "importlib_metadata  NA\n",
       "ipykernel           6.29.5\n",
       "jedi                0.19.2\n",
       "jinja2              3.1.5\n",
       "jmespath            1.0.1\n",
       "joblib              1.4.2\n",
       "kiwisolver          1.4.8\n",
       "lamin_utils         0.13.11\n",
       "legacy_api_wrap     NA\n",
       "llvmlite            0.44.0\n",
       "markupsafe          3.0.2\n",
       "matplotlib          3.10.0\n",
       "mpl_toolkits        NA\n",
       "multidict           6.2.0\n",
       "mypy_extensions     NA\n",
       "natsort             8.4.0\n",
       "nbproject           0.10.6\n",
       "numba               0.61.0\n",
       "orjson              3.10.15\n",
       "packaging           24.2\n",
       "pandas              2.2.3\n",
       "pandera             0.0.0+dev0\n",
       "parso               0.8.4\n",
       "platformdirs        4.3.6\n",
       "postgrest           0.19.3\n",
       "prompt_toolkit      3.0.50\n",
       "pronto              2.7.0\n",
       "propcache           0.3.0\n",
       "psutil              7.0.0\n",
       "psycopg2            2.9.10 (dt dec pq3 ext lo64)\n",
       "pure_eval           0.2.3\n",
       "pyarrow             19.0.1\n",
       "pydantic            2.10.6\n",
       "pydantic_core       2.27.2\n",
       "pydantic_settings   2.8.1\n",
       "pydev_ipython       NA\n",
       "pydevconsole        NA\n",
       "pydevd              3.2.3\n",
       "pydevd_file_utils   NA\n",
       "pydevd_plugins      NA\n",
       "pydevd_tracing      NA\n",
       "pygments            2.19.1\n",
       "pyparsing           3.2.1\n",
       "pytz                2024.1\n",
       "realtime            2.4.1\n",
       "requests            2.32.3\n",
       "rich                NA\n",
       "rpycall             NA\n",
       "rpytools            NA\n",
       "s3fs                2025.2.0\n",
       "six                 1.17.0\n",
       "sklearn             1.5.2\n",
       "sniffio             1.3.1\n",
       "sqlparse            0.5.3\n",
       "stack_data          0.6.3\n",
       "storage3            0.11.3\n",
       "supabase            2.11.0\n",
       "supafunc            NA\n",
       "threadpoolctl       3.5.0\n",
       "tornado             6.4.2\n",
       "traitlets           5.14.3\n",
       "typeguard           NA\n",
       "typing_extensions   NA\n",
       "typing_inspect      NA\n",
       "tzlocal             NA\n",
       "upath               0.2.6\n",
       "urllib3             1.26.20\n",
       "vscode              NA\n",
       "wcwidth             0.2.13\n",
       "websockets          14.2\n",
       "wrapt               1.17.2\n",
       "yaml                6.0.2\n",
       "yarl                1.18.3\n",
       "zipp                NA\n",
       "zmq                 26.3.0\n",
       "</pre>\n",
       "</details> <!-- seems like this ends pre, so might as well be explicit -->\n",
       "<pre>\n",
       "-----\n",
       "IPython             9.0.2\n",
       "jupyter_client      8.6.3\n",
       "jupyter_core        5.7.2\n",
       "-----\n",
       "Python 3.12.9 | packaged by conda-forge | (main, Mar  4 2025, 22:45:25) [Clang 18.1.8 ]\n",
       "macOS-15.3.2-x86_64-i386-64bit\n",
       "-----\n",
       "Session information updated at 2025-03-26 14:24\n",
       "</pre>\n",
       "</details>"
      ],
      "text/plain": [
       "<IPython.core.display.HTML object>"
      ]
     },
     "execution_count": 33,
     "metadata": {},
     "output_type": "execute_result"
    }
   ],
   "source": [
    "import session_info\n",
    "\n",
    "session_info.show()"
   ]
  },
  {
   "attachments": {},
   "cell_type": "markdown",
   "metadata": {},
   "source": [
    "## R"
   ]
  },
  {
   "cell_type": "code",
   "execution_count": 34,
   "metadata": {},
   "outputs": [
    {
     "name": "stdout",
     "output_type": "stream",
     "text": [
      "─ Session info ───────────────────────────────────────────────────────────────\n",
      " setting  value\n",
      " version  R version 4.3.3 (2024-02-29)\n",
      " os       macOS 15.3.2\n",
      " system   x86_64, darwin13.4.0\n",
      " ui       unknown\n",
      " language (EN)\n",
      " collate  C\n",
      " ctype    UTF-8\n",
      " tz       Europe/Berlin\n",
      " date     2025-03-26\n",
      " pandoc   3.6.3 @ /Users/seohyon/miniconda3/envs/interoperability/bin/pandoc\n",
      " quarto   NA\n",
      "\n",
      "─ Packages ───────────────────────────────────────────────────────────────────\n",
      " package              * version    date (UTC) lib source\n",
      " abind                  1.4-8      2024-09-12 [1] CRAN (R 4.3.3)\n",
      " beachmat               2.18.0     2023-10-24 [1] Bioconductor\n",
      " Biobase              * 2.62.0     2023-10-24 [1] Bioconductor\n",
      " BiocGenerics         * 0.48.1     2023-11-01 [1] Bioconductor\n",
      " BiocParallel           1.36.0     2023-10-24 [1] Bioconductor\n",
      " bit                    4.6.0      2025-03-06 [1] CRAN (R 4.3.3)\n",
      " bit64                  4.6.0-1    2025-01-16 [1] CRAN (R 4.3.3)\n",
      " bitops                 1.0-9      2024-10-03 [1] CRAN (R 4.3.3)\n",
      " cli                    3.6.4      2025-02-13 [1] CRAN (R 4.3.3)\n",
      " cluster                2.1.8      2024-12-11 [1] CRAN (R 4.3.3)\n",
      " codetools              0.2-20     2024-03-31 [1] CRAN (R 4.3.3)\n",
      " colorspace             2.1-1      2024-07-26 [1] CRAN (R 4.3.3)\n",
      " cowplot                1.1.3      2024-01-22 [1] CRAN (R 4.3.3)\n",
      " crayon                 1.5.3      2024-06-20 [1] CRAN (R 4.3.3)\n",
      " data.table             1.17.0     2025-02-22 [1] CRAN (R 4.3.3)\n",
      " DelayedArray           0.28.0     2023-10-24 [1] Bioconductor\n",
      " DelayedMatrixStats     1.24.0     2023-10-24 [1] Bioconductor\n",
      " deldir                 2.0-4      2024-02-28 [1] CRAN (R 4.3.3)\n",
      " digest                 0.6.37     2024-08-19 [1] CRAN (R 4.3.3)\n",
      " dotCall64              1.2        2024-10-04 [1] CRAN (R 4.3.3)\n",
      " dplyr                  1.1.4      2023-11-17 [1] CRAN (R 4.3.3)\n",
      " farver                 2.1.2      2024-05-13 [1] CRAN (R 4.3.3)\n",
      " fastDummies            1.7.5      2025-01-20 [1] CRAN (R 4.3.3)\n",
      " fastmap                1.2.0      2024-05-15 [1] CRAN (R 4.3.3)\n",
      " fitdistrplus           1.2-2      2025-01-07 [1] CRAN (R 4.3.3)\n",
      " future                 1.34.0     2024-07-29 [1] CRAN (R 4.3.3)\n",
      " future.apply           1.11.3     2024-10-27 [1] CRAN (R 4.3.3)\n",
      " generics               0.1.3      2022-07-05 [1] CRAN (R 4.3.3)\n",
      " GenomeInfoDb         * 1.38.1     2023-11-08 [1] Bioconductor\n",
      " GenomeInfoDbData       1.2.11     2025-02-21 [1] Bioconductor\n",
      " GenomicRanges        * 1.54.1     2023-10-29 [1] Bioconductor\n",
      " ggplot2                3.5.1      2024-04-23 [1] CRAN (R 4.3.3)\n",
      " ggrepel                0.9.6      2024-09-07 [1] CRAN (R 4.3.3)\n",
      " ggridges               0.5.6      2024-01-23 [1] CRAN (R 4.3.3)\n",
      " globals                0.16.3     2024-03-08 [1] CRAN (R 4.3.3)\n",
      " glue                   1.8.0      2024-09-30 [1] CRAN (R 4.3.3)\n",
      " goftest                1.2-3      2021-10-07 [1] CRAN (R 4.3.3)\n",
      " gridExtra              2.3        2017-09-09 [1] CRAN (R 4.3.3)\n",
      " gtable                 0.3.6      2024-10-25 [1] CRAN (R 4.3.3)\n",
      " hdf5r                  1.3.12     2025-01-20 [1] CRAN (R 4.3.3)\n",
      " htmltools              0.5.8.1    2024-04-04 [1] CRAN (R 4.3.3)\n",
      " htmlwidgets            1.6.4      2023-12-06 [1] CRAN (R 4.3.3)\n",
      " httpuv                 1.6.15     2024-03-26 [1] CRAN (R 4.3.3)\n",
      " httr                   1.4.7      2023-08-15 [1] CRAN (R 4.3.3)\n",
      " ica                    1.0-3      2022-07-08 [1] CRAN (R 4.3.3)\n",
      " igraph                 2.1.4      2025-01-23 [1] CRAN (R 4.3.3)\n",
      " IRanges              * 2.36.0     2023-10-24 [1] Bioconductor\n",
      " irlba                  2.3.5.1    2022-10-03 [1] CRAN (R 4.3.3)\n",
      " jsonlite               1.9.1      2025-03-03 [1] CRAN (R 4.3.3)\n",
      " KernSmooth             2.23-26    2025-01-01 [1] CRAN (R 4.3.3)\n",
      " later                  1.4.1      2024-11-27 [1] CRAN (R 4.3.3)\n",
      " lattice                0.22-6     2024-03-20 [1] CRAN (R 4.3.3)\n",
      " lazyeval               0.2.2      2019-03-15 [1] CRAN (R 4.3.3)\n",
      " lifecycle              1.0.4      2023-11-07 [1] CRAN (R 4.3.3)\n",
      " listenv                0.9.1      2024-01-29 [1] CRAN (R 4.3.3)\n",
      " lmtest                 0.9-40     2022-03-21 [1] CRAN (R 4.3.3)\n",
      " magrittr               2.0.3      2022-03-30 [1] CRAN (R 4.3.3)\n",
      " MASS                   7.3-60.0.1 2024-01-13 [1] CRAN (R 4.3.3)\n",
      " Matrix               * 1.6-5      2024-01-11 [1] CRAN (R 4.3.3)\n",
      " MatrixGenerics       * 1.14.0     2023-10-24 [1] Bioconductor\n",
      " matrixStats          * 1.5.0      2025-01-07 [1] CRAN (R 4.3.3)\n",
      " mime                   0.12       2021-09-28 [1] CRAN (R 4.3.3)\n",
      " miniUI                 0.1.1.1    2018-05-18 [1] CRAN (R 4.3.3)\n",
      " MuData                 0.99.9     2025-03-13 [1] Bioconductor\n",
      " MuDataSeurat           0.0.0.9000 2025-03-13 [1] Github (PMBio/MuDataSeurat@e34e908)\n",
      " MultiAssayExperiment   1.28.0     2023-10-24 [1] Bioconductor\n",
      " munsell                0.5.1      2024-04-01 [1] CRAN (R 4.3.3)\n",
      " nlme                   3.1-167    2025-01-27 [1] CRAN (R 4.3.3)\n",
      " parallelly             1.42.0     2025-01-30 [1] CRAN (R 4.3.3)\n",
      " patchwork              1.3.0      2024-09-16 [1] CRAN (R 4.3.3)\n",
      " pbapply                1.7-2      2023-06-27 [1] CRAN (R 4.3.3)\n",
      " pillar                 1.10.1     2025-01-07 [1] CRAN (R 4.3.3)\n",
      " pkgconfig              2.0.3      2019-09-22 [1] CRAN (R 4.3.3)\n",
      " plotly                 4.10.4     2024-01-13 [1] CRAN (R 4.3.3)\n",
      " plyr                   1.8.9      2023-10-02 [1] CRAN (R 4.3.3)\n",
      " png                    0.1-8      2022-11-29 [1] CRAN (R 4.3.3)\n",
      " polyclip               1.10-7     2024-07-23 [1] CRAN (R 4.3.3)\n",
      " progressr              0.15.1     2024-11-22 [1] CRAN (R 4.3.3)\n",
      " promises               1.3.2      2024-11-28 [1] CRAN (R 4.3.3)\n",
      " purrr                  1.0.4      2025-02-05 [1] CRAN (R 4.3.3)\n",
      " R6                     2.6.1      2025-02-15 [1] CRAN (R 4.3.3)\n",
      " RANN                   2.6.2      2024-08-25 [1] CRAN (R 4.3.3)\n",
      " RColorBrewer           1.1-3      2022-04-03 [1] CRAN (R 4.3.3)\n",
      " Rcpp                   1.0.14     2025-01-12 [1] CRAN (R 4.3.3)\n",
      " RcppAnnoy              0.0.22     2024-01-23 [1] CRAN (R 4.3.3)\n",
      " RcppHNSW               0.6.0      2024-02-04 [1] CRAN (R 4.3.3)\n",
      " RCurl                  1.98-1.16  2024-07-11 [1] CRAN (R 4.3.3)\n",
      " reshape2               1.4.4      2020-04-09 [1] CRAN (R 4.3.3)\n",
      " reticulate             1.41.0.1   2025-03-09 [1] CRAN (R 4.3.3)\n",
      " rhdf5                  2.46.1     2023-11-29 [1] Bioconductor 3.18 (R 4.3.3)\n",
      " rhdf5filters           1.14.1     2023-11-06 [1] Bioconductor\n",
      " Rhdf5lib               1.24.0     2023-10-24 [1] Bioconductor\n",
      " rlang                  1.1.5      2025-01-17 [1] CRAN (R 4.3.3)\n",
      " ROCR                   1.0-11     2020-05-02 [1] CRAN (R 4.3.3)\n",
      " RSpectra               0.16-2     2024-07-18 [1] CRAN (R 4.3.3)\n",
      " Rtsne                  0.17       2023-12-07 [1] CRAN (R 4.3.3)\n",
      " S4Arrays               1.2.0      2023-10-24 [1] Bioconductor\n",
      " S4Vectors            * 0.40.2     2023-11-23 [1] Bioconductor 3.18 (R 4.3.3)\n",
      " scales                 1.3.0      2023-11-28 [1] CRAN (R 4.3.3)\n",
      " scattermore            1.2        2023-06-12 [1] CRAN (R 4.3.3)\n",
      " sctransform            0.4.1      2023-10-19 [1] CRAN (R 4.3.3)\n",
      " scuttle                1.12.0     2023-10-24 [1] Bioconductor\n",
      " sessioninfo            1.2.3      2025-02-05 [1] CRAN (R 4.3.3)\n",
      " Seurat                 5.2.1      2025-01-24 [1] CRAN (R 4.3.3)\n",
      " SeuratDisk             0.0.0.9021 2025-03-13 [1] Github (mojaveazure/seurat-disk@877d4e1)\n",
      " SeuratObject           5.0.2      2024-05-08 [1] CRAN (R 4.3.3)\n",
      " shiny                  1.10.0     2024-12-14 [1] CRAN (R 4.3.3)\n",
      " SingleCellExperiment * 1.24.0     2023-10-24 [1] Bioconductor\n",
      " sp                     2.2-0      2025-02-01 [1] CRAN (R 4.3.3)\n",
      " spam                   2.11-1     2025-01-20 [1] CRAN (R 4.3.3)\n",
      " SparseArray            1.2.2      2023-11-07 [1] Bioconductor\n",
      " sparseMatrixStats      1.14.0     2023-10-24 [1] Bioconductor\n",
      " spatstat.data          3.1-4      2024-11-15 [1] CRAN (R 4.3.3)\n",
      " spatstat.explore       3.3-4      2025-01-08 [1] CRAN (R 4.3.3)\n",
      " spatstat.geom          3.3-5      2025-01-18 [1] CRAN (R 4.3.3)\n",
      " spatstat.random        3.3-2      2024-09-18 [1] CRAN (R 4.3.3)\n",
      " spatstat.sparse        3.1-0      2024-06-21 [1] CRAN (R 4.3.3)\n",
      " spatstat.univar        3.1-2      2025-03-05 [1] CRAN (R 4.3.3)\n",
      " spatstat.utils         3.1-2      2025-01-08 [1] CRAN (R 4.3.3)\n",
      " stringi                1.8.4      2024-05-06 [1] CRAN (R 4.3.3)\n",
      " stringr                1.5.1      2023-11-14 [1] CRAN (R 4.3.3)\n",
      " SummarizedExperiment * 1.32.0     2023-10-24 [1] Bioconductor\n",
      " survival               3.8-3      2024-12-17 [1] CRAN (R 4.3.3)\n",
      " tensor                 1.5        2012-05-05 [1] CRAN (R 4.3.3)\n",
      " tibble                 3.2.1      2023-03-20 [1] CRAN (R 4.3.3)\n",
      " tidyr                  1.3.1      2024-01-24 [1] CRAN (R 4.3.3)\n",
      " tidyselect             1.2.1      2024-03-11 [1] CRAN (R 4.3.3)\n",
      " uwot                   0.2.3      2025-02-24 [1] CRAN (R 4.3.3)\n",
      " vctrs                  0.6.5      2023-12-01 [1] CRAN (R 4.3.3)\n",
      " viridisLite            0.4.2      2023-05-02 [1] CRAN (R 4.3.3)\n",
      " withr                  3.0.2      2024-10-28 [1] CRAN (R 4.3.3)\n",
      " xtable                 1.8-4      2019-04-21 [1] CRAN (R 4.3.3)\n",
      " XVector                0.42.0     2023-10-24 [1] Bioconductor\n",
      " zlibbioc               1.48.0     2023-10-24 [1] Bioconductor\n",
      " zoo                    1.8-13     2025-02-22 [1] CRAN (R 4.3.3)\n",
      "\n",
      " [1] /Users/seohyon/miniconda3/envs/interoperability/lib/R/library\n",
      " * ── Packages attached to the search path.\n",
      "\n",
      "─ Python configuration ───────────────────────────────────────────────────────\n",
      " python:         /Users/seohyon/miniconda3/envs/interoperability/bin/python\n",
      " libpython:      /Users/seohyon/miniconda3/envs/interoperability/bin/python3.12\n",
      " pythonhome:     /Users/seohyon/miniconda3/envs/interoperability:/Users/seohyon/miniconda3/envs/interoperability\n",
      " version:        3.12.9 | packaged by conda-forge | (main, Mar  4 2025, 22:45:25) [Clang 18.1.8 ]\n",
      " numpy:          /Users/seohyon/miniconda3/envs/interoperability/lib/python3.12/site-packages/numpy\n",
      " numpy_version:  2.1.3\n",
      " \n",
      " NOTE: Python version was forced by the current process\n",
      "\n",
      "──────────────────────────────────────────────────────────────────────────────\n"
     ]
    }
   ],
   "source": [
    "%%R\n",
    "sessioninfo::session_info()\n"
   ]
  },
  {
   "cell_type": "markdown",
   "metadata": {},
   "source": [
    "## 참고문헌"
   ]
  },
  {
   "cell_type": "markdown",
   "metadata": {},
   "source": [
    "```{bibliography}\n",
    ":filter: docname in docnames\n",
    ":labelprefix: int\n",
    "```"
   ]
  },
  {
   "cell_type": "markdown",
   "metadata": {},
   "source": [
    "## 기여자\n",
    "\n",
    "다음 분들의 기여에 감사드립니다:\n",
    "\n",
    "### 저자\n",
    "\n",
    "* Luke Zappia\n",
    "* 김서현\n",
    "\n",
    "### 검토자\n",
    "\n",
    "* Lukas Heumos\n",
    "* Isaac Virshup\n",
    "* Anastasia Litinetskaya\n",
    "* Ludwig Geistlinger\n",
    "* Peter Hickey"
   ]
  }
 ],
 "metadata": {
  "kernelspec": {
   "display_name": "interoperability",
   "language": "python",
   "name": "python3"
  },
  "language_info": {
   "codemirror_mode": {
    "name": "ipython",
    "version": 3
   },
   "file_extension": ".py",
   "mimetype": "text/x-python",
   "name": "python",
   "nbconvert_exporter": "python",
   "pygments_lexer": "ipython3",
   "version": "3.12.9"
  }
 },
 "nbformat": 4,
 "nbformat_minor": 4
}