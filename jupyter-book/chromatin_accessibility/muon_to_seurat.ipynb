{
 "cells": [
  {
   "cell_type": "markdown",
   "id": "269e98ba-c628-475e-9727-b35d7a295cd8",
   "metadata": {},
   "source": [
    "# 후속 분석에 사용하기 위한 muon 객체의 Seurat 객체로의 변환"
   ]
  },
  {
   "cell_type": "markdown",
   "id": "e9f41665-b267-45fb-a910-74777ea955f5",
   "metadata": {},
   "source": [
    "소개에서 보았듯이 현재 R에서만 사용할 수 있는 일부 후속 분석이 있습니다. 따라서 이 노트북에서는 Signac을 사용하여 후속 분석을 위해 muon 객체를 Seurat 객체로 변환하는 방법을 보여주고자 합니다."
   ]
  },
  {
   "cell_type": "code",
   "execution_count": 1,
   "id": "4792130d-75ac-454b-8bcf-679507a4dcc7",
   "metadata": {},
   "outputs": [],
   "source": [
    ".libPaths(c(\"/home/icb/laura.martens/miniconda3/envs/best_practices/lib/R/library\", \"/home/icb/laura.martens/miniconda3/envs/signac/lib/R/library\"))"
   ]
  },
  {
   "cell_type": "markdown",
   "id": "80a31d8f-5d11-4fc6-819d-e681d3964541",
   "metadata": {},
   "source": [
    "## 환경 설정"
   ]
  },
  {
   "cell_type": "markdown",
   "id": "625cf10c-1f6a-485b-9af5-450c5125f4a9",
   "metadata": {},
   "source": [
    "R에서 scATAC-seq 데이터를 처리하기 위해 R 라이브러리 `Signac`과 `Seurat`을 로드합니다. 또한 참조 유전체에 대한 주석을 로드해야 합니다. 이 예에서는 인간과 `hg38` 참조 유전체에 대한 주석을 로드합니다. "
   ]
  },
  {
   "cell_type": "code",
   "execution_count": 10,
   "id": "e2c3fc0f-65fc-4487-852d-705223708118",
   "metadata": {},
   "outputs": [
    {
     "name": "stderr",
     "output_type": "stream",
     "text": [
      "Warning message:\n",
      "\"package 'stringr' was built under R version 4.2.2\"\n"
     ]
    }
   ],
   "source": [
    "library(MuDataSeurat)# to read in muon object and convert to Seurat\n",
    "library(Signac) \n",
    "library(Seurat)\n",
    "library(stringr)\n",
    "\n",
    "library(EnsDb.Hsapiens.v86)"
   ]
  },
  {
   "cell_type": "markdown",
   "id": "b68c0e67-87ba-4371-b820-e09e7d17c5be",
   "metadata": {},
   "source": [
    "## 데이터 로드"
   ]
  },
  {
   "cell_type": "markdown",
   "id": "db95bc97-3855-43ce-8cab-c900a4f0c786",
   "metadata": {},
   "source": [
    "Signac을 사용하면 기능의 커버리지를 시각화하거나 풋프린팅과 같은 다른 분석을 수행할 수 있습니다. 이러한 일부 후속 분석의 경우 여기에서 `fragmen_file`로 지정하는 Seurat 객체에 조각 파일을 추가해야 합니다."
   ]
  },
  {
   "cell_type": "code",
   "execution_count": 3,
   "id": "0eb2e756-c020-42c8-9384-5f01c6217840",
   "metadata": {},
   "outputs": [],
   "source": [
    "fragment_file <- \"/lustre/groups/ml01/datasets/projects/20220323_neurips21_bmmc_christopher.lance/multiome/aggr_donors/atac_fragments.tsv.gz\"\n",
    "adata_file <- \"/lustre/groups/ml01/code/laura.martens/scATAC_pipelines/src/best_practices/multiome_donor_s4d8_pp_test.h5mu\" #\"/lustre/groups/ml01/workspace/christopher.lance/mm_best/src/scATAC/muon_data/neurips_qc_filtered_allsamp.h5ad\""
   ]
  },
  {
   "cell_type": "markdown",
   "id": "228afd71-4d11-4d62-be53-1d811f05e6f9",
   "metadata": {},
   "source": [
    "### mudata 객체 읽기"
   ]
  },
  {
   "cell_type": "code",
   "execution_count": 4,
   "id": "53a66b40-248a-41b6-9640-f970b583d540",
   "metadata": {},
   "outputs": [
    {
     "name": "stderr",
     "output_type": "stream",
     "text": [
      "Warning message in missing_on_read(\"/var\", paste0(\"global variables metadata (\", :\n",
      "\"Missing on read: /var. Seurat does not support global variables metadata (gene_ids, feature_types, genome, interval).\"\n",
      "Warning message in read_layers_to_assay(h5[[\"mod\"]][[mod]], mod):\n",
      "\"The var_names from modality gene_activity have been renamed as feature names cannot contain '_'. E.g. gene_activity:MIR1302-2HG -> gene-activity:MIR1302-2HG.\"\n",
      "as(<dsCMatrix>, \"dgCMatrix\") is deprecated since Matrix 1.5-0; do as(., \"generalMatrix\") instead\n",
      "\n",
      "Warning message in missing_on_read(paste0(\"/mod\", mod, \"/varp\"), \"pairwise annotation of variables\"):\n",
      "\"Missing on read: /modrna/varp. Seurat does not support pairwise annotation of variables.\"\n",
      "Warning message in missing_on_read(paste0(\"/mod\", mod, \"/varp\"), \"pairwise annotation of variables\"):\n",
      "\"Missing on read: /modatac/varp. Seurat does not support pairwise annotation of variables.\"\n",
      "Warning message in missing_on_read(paste0(\"/mod\", mod, \"/varp\"), \"pairwise annotation of variables\"):\n",
      "\"Missing on read: /modgene_activity/varp. Seurat does not support pairwise annotation of variables.\"\n",
      "Warning message:\n",
      "\"Keys should be one or more alphanumeric characters followed by an underscore, setting key from rna to rna_\"\n",
      "Warning message:\n",
      "\"Keys should be one or more alphanumeric characters followed by an underscore, setting key from gene_activity_ to geneactivity_\"\n",
      "Warning message:\n",
      "\"No columnames present in cell embeddings, setting to 'LSI_1:49'\"\n",
      "Warning message:\n",
      "\"No columnames present in cell embeddings, setting to 'UMAP_1:2'\"\n"
     ]
    }
   ],
   "source": [
    "atac <- MuDataSeurat::ReadH5MU(adata_file)"
   ]
  },
  {
   "cell_type": "code",
   "execution_count": 5,
   "id": "e6834444-6810-4fba-bf26-9447de969482",
   "metadata": {},
   "outputs": [
    {
     "data": {
      "text/plain": [
       "An object of class Seurat \n",
       "220291 features across 14710 samples within 3 assays \n",
       "Active assay: rna (36601 features, 0 variable features)\n",
       " 2 other assays present: atac, gene_activity\n",
       " 2 dimensional reductions calculated: LSI, UMAP"
      ]
     },
     "metadata": {},
     "output_type": "display_data"
    }
   ],
   "source": [
    "atac"
   ]
  },
  {
   "cell_type": "markdown",
   "id": "2450fa73-ba9f-4dc9-8d3d-d1e43699cbc8",
   "metadata": {},
   "source": [
    "muon 객체를 R로 성공적으로 로드했으며 `atac`, `rna` 및 `gene_activity`의 세 가지 분석이 포함된 Seurat 객체로 변환되었습니다. 차원 축소 및 메타데이터도 전송되었습니다. "
   ]
  },
  {
   "cell_type": "code",
   "execution_count": 6,
   "id": "f6589981-ca11-41fc-ae4b-32987ad5ea97",
   "metadata": {},
   "outputs": [
    {
     "data": {
      "text/html": [
       "<table class=\"dataframe\">\n",
       "<caption>A data.frame: 6 × 27</caption>\n",
       "<thead>\n",
       "\t<tr><th></th><th scope=col>orig.ident</th><th scope=col>nCount_rna</th><th scope=col>nFeature_rna</th><th scope=col>nCount_atac</th><th scope=col>nFeature_atac</th><th scope=col>nCount_gene_activity</th><th scope=col>nFeature_gene_activity</th><th scope=col>n_features_per_cell</th><th scope=col>total_fragment_counts</th><th scope=col>log_total_fragment_counts</th><th scope=col>⋯</th><th scope=col>n_features_per_cell.1</th><th scope=col>total_fragment_counts.1</th><th scope=col>log_total_fragment_counts.1</th><th scope=col>nucleosome_signal.1</th><th scope=col>nuc_signal_filter.1</th><th scope=col>tss_score.1</th><th scope=col>site.1</th><th scope=col>donor.1</th><th scope=col>sample.1</th><th scope=col>leiden.1</th></tr>\n",
       "\t<tr><th></th><th scope=col>&lt;fct&gt;</th><th scope=col>&lt;dbl&gt;</th><th scope=col>&lt;int&gt;</th><th scope=col>&lt;dbl&gt;</th><th scope=col>&lt;int&gt;</th><th scope=col>&lt;dbl&gt;</th><th scope=col>&lt;int&gt;</th><th scope=col>&lt;int&gt;</th><th scope=col>&lt;dbl&gt;</th><th scope=col>&lt;dbl&gt;</th><th scope=col>⋯</th><th scope=col>&lt;int&gt;</th><th scope=col>&lt;dbl&gt;</th><th scope=col>&lt;dbl&gt;</th><th scope=col>&lt;dbl&gt;</th><th scope=col>&lt;fct&gt;</th><th scope=col>&lt;dbl&gt;</th><th scope=col>&lt;fct&gt;</th><th scope=col>&lt;fct&gt;</th><th scope=col>&lt;fct&gt;</th><th scope=col>&lt;fct&gt;</th></tr>\n",
       "</thead>\n",
       "<tbody>\n",
       "\t<tr><th scope=row>AAACAGCCAAGCTTAT-14</th><td>SeuratProject</td><td>1707</td><td>1128</td><td>3588</td><td>1797</td><td>2738</td><td>1409</td><td>1799</td><td>3591</td><td>3.555215</td><td>⋯</td><td>1799</td><td>3591</td><td>3.555215</td><td>0.6643357</td><td>NS_PASS</td><td> 3.521329</td><td>site4</td><td>donor8</td><td>s4d8</td><td>4 </td></tr>\n",
       "\t<tr><th scope=row>AAACAGCCATGAAATG-14</th><td>SeuratProject</td><td>1409</td><td> 479</td><td>5056</td><td>2552</td><td>3965</td><td>1957</td><td>2556</td><td>5062</td><td>3.704322</td><td>⋯</td><td>2556</td><td>5062</td><td>3.704322</td><td>0.6542056</td><td>NS_PASS</td><td> 2.296477</td><td>site4</td><td>donor8</td><td>s4d8</td><td>10</td></tr>\n",
       "\t<tr><th scope=row>AAACAGCCATGTTTGG-14</th><td>SeuratProject</td><td>1666</td><td>1077</td><td>7110</td><td>3360</td><td>5105</td><td>2495</td><td>3361</td><td>7112</td><td>3.851992</td><td>⋯</td><td>3361</td><td>7112</td><td>3.851992</td><td>0.6789298</td><td>NS_PASS</td><td>12.890983</td><td>site4</td><td>donor8</td><td>s4d8</td><td>3 </td></tr>\n",
       "\t<tr><th scope=row>AAACATGCAACGTGCT-14</th><td>SeuratProject</td><td> 882</td><td> 641</td><td>7569</td><td>3586</td><td>5397</td><td>2565</td><td>3591</td><td>7578</td><td>3.879555</td><td>⋯</td><td>3591</td><td>7578</td><td>3.879555</td><td>1.0609319</td><td>NS_PASS</td><td> 4.689176</td><td>site4</td><td>donor8</td><td>s4d8</td><td>6 </td></tr>\n",
       "\t<tr><th scope=row>AAACATGCAATATAGG-14</th><td>SeuratProject</td><td> 325</td><td> 277</td><td>8550</td><td>4005</td><td>6500</td><td>2932</td><td>4006</td><td>8551</td><td>3.932017</td><td>⋯</td><td>4006</td><td>8551</td><td>3.932017</td><td>0.9504644</td><td>NS_PASS</td><td> 4.600777</td><td>site4</td><td>donor8</td><td>s4d8</td><td>3 </td></tr>\n",
       "\t<tr><th scope=row>AAACATGCAATTAACC-14</th><td>SeuratProject</td><td>1704</td><td>1083</td><td>6993</td><td>3268</td><td>5061</td><td>2450</td><td>3269</td><td>6995</td><td>3.844788</td><td>⋯</td><td>3269</td><td>6995</td><td>3.844788</td><td>0.7665505</td><td>NS_PASS</td><td> 6.894277</td><td>site4</td><td>donor8</td><td>s4d8</td><td>0 </td></tr>\n",
       "</tbody>\n",
       "</table>\n"
      ],
      "text/latex": [
       "A data.frame: 6 × 27\n",
       "\\begin{tabular}{r|lllllllllllllllllllll}\n",
       "  & orig.ident & nCount\\_rna & nFeature\\_rna & nCount\\_atac & nFeature\\_atac & nCount\\_gene\\_activity & nFeature\\_gene\\_activity & n\\_features\\_per\\_cell & total\\_fragment\\_counts & log\\_total\\_fragment\\_counts & ⋯ & n\\_features\\_per\\_cell.1 & total\\_fragment\\_counts.1 & log\\_total\\_fragment\\_counts.1 & nucleosome\\_signal.1 & nuc\\_signal\\_filter.1 & tss\\_score.1 & site.1 & donor.1 & sample.1 & leiden.1\\\\\n",
       "  & <fct> & <dbl> & <int> & <dbl> & <int> & <dbl> & <int> & <int> & <dbl> & <dbl> & ⋯ & <int> & <dbl> & <dbl> & <dbl> & <fct> & <dbl> & <fct> & <fct> & <fct> & <fct>\\\\\n",
       "\\hline\n",
       "\tAAACAGCCAAGCTTAT-14 & SeuratProject & 1707 & 1128 & 3588 & 1797 & 2738 & 1409 & 1799 & 3591 & 3.555215 & ⋯ & 1799 & 3591 & 3.555215 & 0.6643357 & NS\\_PASS &  3.521329 & site4 & donor8 & s4d8 & 4 \\\\\n",
       "\tAAACAGCCATGAAATG-14 & SeuratProject & 1409 &  479 & 5056 & 2552 & 3965 & 1957 & 2556 & 5062 & 3.704322 & ⋯ & 2556 & 5062 & 3.704322 & 0.6542056 & NS\\_PASS &  2.296477 & site4 & donor8 & s4d8 & 10\\\\\n",
       "\tAAACAGCCATGTTTGG-14 & SeuratProject & 1666 & 1077 & 7110 & 3360 & 5105 & 2495 & 3361 & 7112 & 3.851992 & ⋯ & 3361 & 7112 & 3.851992 & 0.6789298 & NS\\_PASS & 12.890983 & site4 & donor8 & s4d8 & 3 \\\\\n",
       "\tAAACATGCAACGTGCT-14 & SeuratProject &  882 &  641 & 7569 & 3586 & 5397 & 2565 & 3591 & 7578 & 3.879555 & ⋯ & 3591 & 7578 & 3.879555 & 1.0609319 & NS\\_PASS &  4.689176 & site4 & donor8 & s4d8 & 6 \\\\\n",
       "\tAAACATGCAATATAGG-14 & SeuratProject &  325 &  277 & 8550 & 4005 & 6500 & 2932 & 4006 & 8551 & 3.932017 & ⋯ & 4006 & 8551 & 3.932017 & 0.9504644 & NS\\_PASS &  4.600777 & site4 & donor8 & s4d8 & 3 \\\\\n",
       "\tAAACATGCAATTAACC-14 & SeuratProject & 1704 & 1083 & 6993 & 3268 & 5061 & 2450 & 3269 & 6995 & 3.844788 & ⋯ & 3269 & 6995 & 3.844788 & 0.7665505 & NS\\_PASS &  6.894277 & site4 & donor8 & s4d8 & 0 \\\\\n",
       "\\end{tabular}\n"
      ],
      "text/markdown": [
       "\n",
       "A data.frame: 6 × 27\n",
       "\n",
       "| <!--/--> | orig.ident &lt;fct&gt; | nCount_rna &lt;dbl&gt; | nFeature_rna &lt;int&gt; | nCount_atac &lt;dbl&gt; | nFeature_atac &lt;int&gt; | nCount_gene_activity &lt;dbl&gt; | nFeature_gene_activity &lt;int&gt; | n_features_per_cell &lt;int&gt; | total_fragment_counts &lt;dbl&gt; | log_total_fragment_counts &lt;dbl&gt; | ⋯ ⋯ | n_features_per_cell.1 &lt;int&gt; | total_fragment_counts.1 &lt;dbl&gt; | log_total_fragment_counts.1 &lt;dbl&gt; | nucleosome_signal.1 &lt;dbl&gt; | nuc_signal_filter.1 &lt;fct&gt; | tss_score.1 &lt;dbl&gt; | site.1 &lt;fct&gt; | donor.1 &lt;fct&gt; | sample.1 &lt;fct&gt; | leiden.1 &lt;fct&gt; |\n",
       "|---|---|---|---|---|---|---|---|---|---|---|---|---|---|---|---|---|---|---|---|---|---|\n",
       "| AAACAGCCAAGCTTAT-14 | SeuratProject | 1707 | 1128 | 3588 | 1797 | 2738 | 1409 | 1799 | 3591 | 3.555215 | ⋯ | 1799 | 3591 | 3.555215 | 0.6643357 | NS_PASS |  3.521329 | site4 | donor8 | s4d8 | 4  |\n",
       "| AAACAGCCATGAAATG-14 | SeuratProject | 1409 |  479 | 5056 | 2552 | 3965 | 1957 | 2556 | 5062 | 3.704322 | ⋯ | 2556 | 5062 | 3.704322 | 0.6542056 | NS_PASS |  2.296477 | site4 | donor8 | s4d8 | 10 |\n",
       "| AAACAGCCATGTTTGG-14 | SeuratProject | 1666 | 1077 | 7110 | 3360 | 5105 | 2495 | 3361 | 7112 | 3.851992 | ⋯ | 3361 | 7112 | 3.851992 | 0.6789298 | NS_PASS | 12.890983 | site4 | donor8 | s4d8 | 3  |\n",
       "| AAACATGCAACGTGCT-14 | SeuratProject |  882 |  641 | 7569 | 3586 | 5397 | 2565 | 3591 | 7578 | 3.879555 | ⋯ | 3591 | 7578 | 3.879555 | 1.0609319 | NS_PASS |  4.689176 | site4 | donor8 | s4d8 | 6  |\n",
       "| AAACATGCAATATAGG-14 | SeuratProject |  325 |  277 | 8550 | 4005 | 6500 | 2932 | 4006 | 8551 | 3.932017 | ⋯ | 4006 | 8551 | 3.932017 | 0.9504644 | NS_PASS |  4.600777 | site4 | donor8 | s4d8 | 3  |\n",
       "| AAACATGCAATTAACC-14 | SeuratProject | 1704 | 1083 | 6993 | 3268 | 5061 | 2450 | 3269 | 6995 | 3.844788 | ⋯ | 3269 | 6995 | 3.844788 | 0.7665505 | NS_PASS |  6.894277 | site4 | donor8 | s4d8 | 0  |\n",
       "\n"
      ],
      "text/plain": [
       "                    orig.ident    nCount_rna nFeature_rna nCount_atac\n",
       "AAACAGCCAAGCTTAT-14 SeuratProject 1707       1128         3588       \n",
       "AAACAGCCATGAAATG-14 SeuratProject 1409        479         5056       \n",
       "AAACAGCCATGTTTGG-14 SeuratProject 1666       1077         7110       \n",
       "AAACATGCAACGTGCT-14 SeuratProject  882        641         7569       \n",
       "AAACATGCAATATAGG-14 SeuratProject  325        277         8550       \n",
       "AAACATGCAATTAACC-14 SeuratProject 1704       1083         6993       \n",
       "                    nFeature_atac nCount_gene_activity nFeature_gene_activity\n",
       "AAACAGCCAAGCTTAT-14 1797          2738                 1409                  \n",
       "AAACAGCCATGAAATG-14 2552          3965                 1957                  \n",
       "AAACAGCCATGTTTGG-14 3360          5105                 2495                  \n",
       "AAACATGCAACGTGCT-14 3586          5397                 2565                  \n",
       "AAACATGCAATATAGG-14 4005          6500                 2932                  \n",
       "AAACATGCAATTAACC-14 3268          5061                 2450                  \n",
       "                    n_features_per_cell total_fragment_counts\n",
       "AAACAGCCAAGCTTAT-14 1799                3591                 \n",
       "AAACAGCCATGAAATG-14 2556                5062                 \n",
       "AAACAGCCATGTTTGG-14 3361                7112                 \n",
       "AAACATGCAACGTGCT-14 3591                7578                 \n",
       "AAACATGCAATATAGG-14 4006                8551                 \n",
       "AAACATGCAATTAACC-14 3269                6995                 \n",
       "                    log_total_fragment_counts ⋯ n_features_per_cell.1\n",
       "AAACAGCCAAGCTTAT-14 3.555215                  ⋯ 1799                 \n",
       "AAACAGCCATGAAATG-14 3.704322                  ⋯ 2556                 \n",
       "AAACAGCCATGTTTGG-14 3.851992                  ⋯ 3361                 \n",
       "AAACATGCAACGTGCT-14 3.879555                  ⋯ 3591                 \n",
       "AAACATGCAATATAGG-14 3.932017                  ⋯ 4006                 \n",
       "AAACATGCAATTAACC-14 3.844788                  ⋯ 3269                 \n",
       "                    total_fragment_counts.1 log_total_fragment_counts.1\n",
       "AAACAGCCAAGCTTAT-14 3591                    3.555215                   \n",
       "AAACAGCCATGAAATG-14 5062                    3.704322                   \n",
       "AAACAGCCATGTTTGG-14 7112                    3.851992                   \n",
       "AAACATGCAACGTGCT-14 7578                    3.879555                   \n",
       "AAACATGCAATATAGG-14 8551                    3.932017                   \n",
       "AAACATGCAATTAACC-14 6995                    3.844788                   \n",
       "                    nucleosome_signal.1 nuc_signal_filter.1 tss_score.1 site.1\n",
       "AAACAGCCAAGCTTAT-14 0.6643357           NS_PASS              3.521329   site4 \n",
       "AAACAGCCATGAAATG-14 0.6542056           NS_PASS              2.296477   site4 \n",
       "AAACAGCCATGTTTGG-14 0.6789298           NS_PASS             12.890983   site4 \n",
       "AAACATGCAACGTGCT-14 1.0609319           NS_PASS              4.689176   site4 \n",
       "AAACATGCAATATAGG-14 0.9504644           NS_PASS              4.600777   site4 \n",
       "AAACATGCAATTAACC-14 0.7665505           NS_PASS              6.894277   site4 \n",
       "                    donor.1 sample.1 leiden.1\n",
       "AAACAGCCAAGCTTAT-14 donor8  s4d8     4       \n",
       "AAACAGCCATGAAATG-14 donor8  s4d8     10      \n",
       "AAACAGCCATGTTTGG-14 donor8  s4d8     3       \n",
       "AAACATGCAACGTGCT-14 donor8  s4d8     6       \n",
       "AAACATGCAATATAGG-14 donor8  s4d8     3       \n",
       "AAACATGCAATTAACC-14 donor8  s4d8     0       "
      ]
     },
     "metadata": {},
     "output_type": "display_data"
    }
   ],
   "source": [
    "head(atac[[]])"
   ]
  },
  {
   "cell_type": "markdown",
   "id": "c6d2c985-d508-4eb1-8cfb-a96cb9acdf5b",
   "metadata": {},
   "source": [
    "`DimPlot`을 사용하여 올바른 임베딩 및 클러스터링이 추가되었는지 확인합니다."
   ]
  },
  {
   "cell_type": "code",
   "execution_count": 7,
   "id": "26f521c3-75f8-4d5a-8a26-c5b683a4ddfc",
   "metadata": {},
   "outputs": [
    {
     "data": {
      "image/png": "[encoded data removed]",
      "text/plain": [
       "plot without title"
      ]
     },
     "metadata": {
      "image/png": {
       "height": 420,
       "width": 420
      }
     },
     "output_type": "display_data"
    }
   ],
   "source": [
    "FeaturePlot(atac, 'gene-activity:PAX5')"
   ]
  },
  {
   "cell_type": "code",
   "execution_count": null,
   "id": "52cfe106-ce7f-44f9-9449-93556ad052d0",
   "metadata": {},
   "outputs": [],
   "source": []
  }
 ],
 "metadata": {
  "kernelspec": {
   "display_name": "R",
   "language": "R",
   "name": "ir"
  },
  "language_info": {
   "codemirror_mode": "r",
   "file_extension": ".r",
   "mimetype": "text/x-r-source",
   "name": "R",
   "pygments_lexer": "r",
   "version": "4.1.3"
  }
 },
 "nbformat": 4,
 "nbformat_minor": 5
}
